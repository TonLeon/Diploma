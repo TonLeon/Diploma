{
 "cells": [
  {
   "cell_type": "code",
   "execution_count": 1,
   "metadata": {},
   "outputs": [],
   "source": [
    "import cv2\n",
    "import matplotlib.pyplot as plt\n",
    "from copy import copy\n",
    "import pandas as pd\n",
    "import os\n",
    "from face_detection import detect_faces, compute_face_areas_with_percents, cascade"
   ]
  },
  {
   "cell_type": "markdown",
   "metadata": {},
   "source": [
    "# В чем вообще идея:\n",
    "\n",
    "### Если я пройдусь по всем файлам из директории frames_2012, я смогу создать датафрейм с колонками \"название файла\", \"количество лиц\", \"процент, который занимают лица на картинке\". В дальнейшем можно было бы построить гистограмму распределения, посмотреть, что превалирует (распределение количества лиц, распредение процентажа) + построить график того, в каких моментах фильма процентаж от одного лица наиболее высокий -> так я могла бы находить на протяжении фильма крупные планы (например). В целом это могло бы быть актуально в случае попытки находить крупные планы не только людей, но и вещей, в таком случае мы видели бы, как толстовская детальность передается в фильме.\n",
    "\n",
    "### Кроме того, я могла бы анализировать цветовую передачу кадров - там, где сумма значений пикселей на напротяжении нескольких кадров равна нулю, скорее всего есть склейка монтажная. Тогда можно было бы проверить, насколько быстрое повествование, у кого кадры (сцены) длиннее, у кого наоборот короче."
   ]
  },
  {
   "cell_type": "markdown",
   "metadata": {},
   "source": [
    "##### Следующие чанки с функциями и классификатором - временные, они будут перенесены в отдельный файл .py, откуда я буду их импортировать (хотя там возникает проблема с функцией classificator, файлы из которой по сути потом использует функция detect_faces"
   ]
  },
  {
   "cell_type": "code",
   "execution_count": 39,
   "metadata": {},
   "outputs": [],
   "source": [
    "def classificator(name):\n",
    "    cascade = cv2.CascadeClassifier(name)\n",
    "    return cascade\n",
    "\n",
    "def detect_faces(cascade, image, scaleFactor = 1.1, return_faces=False): \n",
    "    '''\n",
    "    :scaleFactor: то, во сколько раз мы уменьшаем наше окно поиска лиц или чего-либо еще при каждой итерации\n",
    "    '''\n",
    "    \n",
    "    '''на всякий случай поработаем с копией'''\n",
    "    image_copy = image.copy()\n",
    "\n",
    "    '''копию картинки переводим в серый, потому что detectMultiScale\n",
    "       берет на фход только серые изображения'''\n",
    "    gray_image = cv2.cvtColor(image_copy, cv2.COLOR_BGR2GRAY)\n",
    "\n",
    "    '''Детектим лица с помощью haar classifier''' \n",
    "    faces = cascade.detectMultiScale(gray_image, scaleFactor=scaleFactor, minNeighbors=5)\n",
    "    \n",
    "#     print(\"Лиц обнаружено: \" + format(len(faces)))\n",
    "\n",
    "    for (x, y, w, h) in faces:\n",
    "        cv2.rectangle(image_copy, (x, y), (x+w, y+h), (0, 255, 0), 3)\n",
    "\n",
    "    return (image_copy, faces) if return_faces else image_copy\n",
    "\n",
    "def compute_face_areas_with_percents(array_of_faces, image):\n",
    "    '''This function computes rectangle area and the percentage of it.\n",
    "    It does not work without function detect_faces, which provides the array of faces (coordinates)'''\n",
    "    \n",
    "    img_h, img_w = image.shape[:2] #we do not need rgb size\n",
    "    img_area = img_h * img_w\n",
    "    areas = []\n",
    "    percentages_of_area = []\n",
    "    for face in array_of_faces:\n",
    "        w, h = face[2], face[3]\n",
    "        area = w * h\n",
    "        percent = area / img_area * 100\n",
    "        percentages_of_area.append(percent)\n",
    "        areas.append(area)\n",
    "    return areas, percentages_of_area"
   ]
  },
  {
   "cell_type": "code",
   "execution_count": 45,
   "metadata": {},
   "outputs": [],
   "source": [
    "frontal_face_cascade = classificator('../haarcascade_frontalface_default.xml')\n",
    "profile_face_cascade = classificator('../haarcascade_profileface.xml')"
   ]
  },
  {
   "cell_type": "markdown",
   "metadata": {},
   "source": [
    "## Создадим функцию, которая раскладывает наше видео на кадры"
   ]
  },
  {
   "cell_type": "code",
   "execution_count": 4,
   "metadata": {},
   "outputs": [],
   "source": [
    "def frame_extraction(film_path):\n",
    "    vidcap = cv2.VideoCapture(film_path)\n",
    "    success,image = vidcap.read()\n",
    "    count = 0\n",
    "    while success:\n",
    "        cv2.imwrite(\"frames_2012/frame_{}.jpg\".format(count), image)\n",
    "        success,image = vidcap.read()\n",
    "#         print('Read a new frame: ', success, ' ', count) #это вероятно можно убрать\n",
    "        count += 1"
   ]
  },
  {
   "cell_type": "markdown",
   "metadata": {},
   "source": [
    "## Попробуем разложить трейлер \"Анны Карениной\" на кадры, которые сохранятся в папке frames_2012"
   ]
  },
  {
   "cell_type": "code",
   "execution_count": 5,
   "metadata": {},
   "outputs": [],
   "source": [
    "film_path = 'Anna_Karenina_Official_Trailer.mp4'"
   ]
  },
  {
   "cell_type": "code",
   "execution_count": 6,
   "metadata": {},
   "outputs": [],
   "source": [
    "'''на выдаче пока не поняла, почему последнее число 3615, если всего кадров должно быть 3624 (ведь длина трейлера - 2 мин 31 сек)\n",
    "UPD: gjx'''\n",
    "frame_extraction(film_path)"
   ]
  },
  {
   "cell_type": "markdown",
   "metadata": {},
   "source": [
    "## Теперь к каждому кадру применим наши функции из скрипта Karenina_OpenCV_practice (которые пока что записаны выше). Результат запишем в датафрейм."
   ]
  },
  {
   "cell_type": "code",
   "execution_count": 48,
   "metadata": {},
   "outputs": [],
   "source": [
    "columns_name = ['frame_num', 'num_of_faces', 'percentage']\n",
    "data = pd.DataFrame(columns = columns_name)"
   ]
  },
  {
   "cell_type": "code",
   "execution_count": 58,
   "metadata": {},
   "outputs": [],
   "source": [
    "directory = 'frames_2012'\n",
    "for file in os.listdir(directory):\n",
    "    if file.endswith('.jpg'):\n",
    "        image = cv2.imread(os.path.join(directory, file)) #читаем файл, получаем матрицу\n",
    "        image, faces = detect_faces(frontal_face_cascade, image, 1.2, True) #находим лица на картинке, \n",
    "                                                                            #получаем координаты картинки и координаты лиц\n",
    "        result = compute_face_areas_with_percents(faces, image) #подсчитываем площадь (пиксели в кв) и процент от картинки\n",
    "        \n",
    "        dict_of_frames = {'frame_num': file, 'num_of_faces': len(result[0]), 'percentage': result[1]}\n",
    "#         print(dict_of_frames)\n",
    "        data = data.append(dict_of_frames, ignore_index=True)"
   ]
  },
  {
   "cell_type": "code",
   "execution_count": 66,
   "metadata": {},
   "outputs": [
    {
     "data": {
      "text/html": [
       "<div>\n",
       "<style scoped>\n",
       "    .dataframe tbody tr th:only-of-type {\n",
       "        vertical-align: middle;\n",
       "    }\n",
       "\n",
       "    .dataframe tbody tr th {\n",
       "        vertical-align: top;\n",
       "    }\n",
       "\n",
       "    .dataframe thead th {\n",
       "        text-align: right;\n",
       "    }\n",
       "</style>\n",
       "<table border=\"1\" class=\"dataframe\">\n",
       "  <thead>\n",
       "    <tr style=\"text-align: right;\">\n",
       "      <th></th>\n",
       "      <th>frame_num</th>\n",
       "      <th>num_of_faces</th>\n",
       "      <th>percentage</th>\n",
       "    </tr>\n",
       "  </thead>\n",
       "  <tbody>\n",
       "    <tr>\n",
       "      <th>0</th>\n",
       "      <td>frame_3284.jpg</td>\n",
       "      <td>0</td>\n",
       "      <td>[]</td>\n",
       "    </tr>\n",
       "    <tr>\n",
       "      <th>1</th>\n",
       "      <td>frame_1493.jpg</td>\n",
       "      <td>0</td>\n",
       "      <td>[]</td>\n",
       "    </tr>\n",
       "    <tr>\n",
       "      <th>2</th>\n",
       "      <td>frame_2824.jpg</td>\n",
       "      <td>5</td>\n",
       "      <td>[0.5469835069444444, 0.6433376736111112, 0.304...</td>\n",
       "    </tr>\n",
       "    <tr>\n",
       "      <th>3</th>\n",
       "      <td>frame_2830.jpg</td>\n",
       "      <td>0</td>\n",
       "      <td>[]</td>\n",
       "    </tr>\n",
       "    <tr>\n",
       "      <th>4</th>\n",
       "      <td>frame_1487.jpg</td>\n",
       "      <td>0</td>\n",
       "      <td>[]</td>\n",
       "    </tr>\n",
       "    <tr>\n",
       "      <th>...</th>\n",
       "      <td>...</td>\n",
       "      <td>...</td>\n",
       "      <td>...</td>\n",
       "    </tr>\n",
       "    <tr>\n",
       "      <th>3611</th>\n",
       "      <td>frame_3289.jpg</td>\n",
       "      <td>0</td>\n",
       "      <td>[]</td>\n",
       "    </tr>\n",
       "    <tr>\n",
       "      <th>3612</th>\n",
       "      <td>frame_967.jpg</td>\n",
       "      <td>1</td>\n",
       "      <td>[0.1181640625]</td>\n",
       "    </tr>\n",
       "    <tr>\n",
       "      <th>3613</th>\n",
       "      <td>frame_2829.jpg</td>\n",
       "      <td>5</td>\n",
       "      <td>[0.5625, 0.3282335069444445, 0.6103515625, 0.7...</td>\n",
       "    </tr>\n",
       "    <tr>\n",
       "      <th>3614</th>\n",
       "      <td>frame_973.jpg</td>\n",
       "      <td>1</td>\n",
       "      <td>[0.1181640625]</td>\n",
       "    </tr>\n",
       "    <tr>\n",
       "      <th>3615</th>\n",
       "      <td>frame_2183.jpg</td>\n",
       "      <td>0</td>\n",
       "      <td>[]</td>\n",
       "    </tr>\n",
       "  </tbody>\n",
       "</table>\n",
       "<p>3616 rows × 3 columns</p>\n",
       "</div>"
      ],
      "text/plain": [
       "           frame_num num_of_faces  \\\n",
       "0     frame_3284.jpg            0   \n",
       "1     frame_1493.jpg            0   \n",
       "2     frame_2824.jpg            5   \n",
       "3     frame_2830.jpg            0   \n",
       "4     frame_1487.jpg            0   \n",
       "...              ...          ...   \n",
       "3611  frame_3289.jpg            0   \n",
       "3612   frame_967.jpg            1   \n",
       "3613  frame_2829.jpg            5   \n",
       "3614   frame_973.jpg            1   \n",
       "3615  frame_2183.jpg            0   \n",
       "\n",
       "                                             percentage  \n",
       "0                                                    []  \n",
       "1                                                    []  \n",
       "2     [0.5469835069444444, 0.6433376736111112, 0.304...  \n",
       "3                                                    []  \n",
       "4                                                    []  \n",
       "...                                                 ...  \n",
       "3611                                                 []  \n",
       "3612                                     [0.1181640625]  \n",
       "3613  [0.5625, 0.3282335069444445, 0.6103515625, 0.7...  \n",
       "3614                                     [0.1181640625]  \n",
       "3615                                                 []  \n",
       "\n",
       "[3616 rows x 3 columns]"
      ]
     },
     "execution_count": 66,
     "metadata": {},
     "output_type": "execute_result"
    }
   ],
   "source": [
    "'''Возникшие проблемы: \n",
    "1) надо понять, как это нормально отсортировать, вероятно, упорядочивать надо еще на этапе обхода директории (странно, что он рандомно\n",
    "   файлы располагает, а не по порядку, как они лежат у меня в папочке)\n",
    "2) Надо улучшить df, потому что пока что наличие списка в значении процентажа не совсем правильно и не очень красиво\n",
    "3) проблема с детектингом - все-таки эта программа совершает значительные ошибки в распознавании лиц\n",
    "4) надо обрезать черные рамки сверху и снизу кадра\n",
    "5) надо придумать, что делать с черными кадрами, потому что если их несколько, то скорее всего это склейка, и тогда эту информацию \n",
    "можно как-то использовать, но пока что эти кадры просто занимаю место в df'''\n",
    "\n",
    "data"
   ]
  },
  {
   "cell_type": "code",
   "execution_count": null,
   "metadata": {},
   "outputs": [],
   "source": []
  }
 ],
 "metadata": {
  "kernelspec": {
   "display_name": "Python 3",
   "language": "python",
   "name": "python3"
  },
  "language_info": {
   "codemirror_mode": {
    "name": "ipython",
    "version": 3
   },
   "file_extension": ".py",
   "mimetype": "text/x-python",
   "name": "python",
   "nbconvert_exporter": "python",
   "pygments_lexer": "ipython3",
   "version": "3.8.1"
  }
 },
 "nbformat": 4,
 "nbformat_minor": 4
}
