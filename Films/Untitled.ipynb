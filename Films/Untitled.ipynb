{
 "cells": [
  {
   "cell_type": "code",
   "execution_count": 6,
   "metadata": {},
   "outputs": [],
   "source": [
    "import face_recognition"
   ]
  },
  {
   "cell_type": "code",
   "execution_count": 5,
   "metadata": {},
   "outputs": [
    {
     "name": "stdout",
     "output_type": "stream",
     "text": [
      "Collecting face_recognition\n",
      "  Using cached face_recognition-1.3.0-py2.py3-none-any.whl (15 kB)\n",
      "Requirement already satisfied: numpy in /Library/Frameworks/Python.framework/Versions/3.8/lib/python3.8/site-packages (from face_recognition) (1.19.5)\n",
      "Requirement already satisfied: face-recognition-models>=0.3.0 in /Library/Frameworks/Python.framework/Versions/3.8/lib/python3.8/site-packages (from face_recognition) (0.3.0)\n",
      "Collecting dlib>=19.7\n",
      "  Using cached dlib-19.21.1.tar.gz (3.6 MB)\n",
      "Requirement already satisfied: Click>=6.0 in /Library/Frameworks/Python.framework/Versions/3.8/lib/python3.8/site-packages (from face_recognition) (7.1.2)\n",
      "Requirement already satisfied: Pillow in /Library/Frameworks/Python.framework/Versions/3.8/lib/python3.8/site-packages (from face_recognition) (8.0.1)\n",
      "Building wheels for collected packages: dlib\n",
      "  Building wheel for dlib (setup.py) ... \u001b[?25ldone\n",
      "\u001b[?25h  Created wheel for dlib: filename=dlib-19.21.1-cp38-cp38-macosx_10_15_x86_64.whl size=3900179 sha256=8c5f1cdbc778c46e8f56b5c65c33d7ab27a6480a0af79dba968f26b3acc1466e\n",
      "  Stored in directory: /Users/tonleon/Library/Caches/pip/wheels/f0/05/00/752b02e4ab2f6ce4633c099c0666af48ff3e4627150a500282\n",
      "Successfully built dlib\n",
      "Installing collected packages: dlib, face-recognition\n",
      "Successfully installed dlib-19.21.1 face-recognition-1.3.0\n",
      "\u001b[33mWARNING: You are using pip version 20.2.4; however, version 20.3.3 is available.\n",
      "You should consider upgrading via the '/Library/Frameworks/Python.framework/Versions/3.8/bin/python3.8 -m pip install --upgrade pip' command.\u001b[0m\n"
     ]
    }
   ],
   "source": [
    "!pip install face_recognition"
   ]
  },
  {
   "cell_type": "code",
   "execution_count": 4,
   "metadata": {},
   "outputs": [
    {
     "name": "stdout",
     "output_type": "stream",
     "text": [
      "Collecting CMake\n",
      "  Downloading cmake-3.18.4.post1-py3-none-macosx_10_6_x86_64.whl (42.8 MB)\n",
      "\u001b[K     |████████████████████████████████| 42.8 MB 2.7 MB/s eta 0:00:01     |███████████▋                    | 15.6 MB 4.9 MB/s eta 0:00:06\n",
      "\u001b[?25hInstalling collected packages: CMake\n",
      "Successfully installed CMake-3.18.4.post1\n",
      "\u001b[33mWARNING: You are using pip version 20.2.4; however, version 20.3.3 is available.\n",
      "You should consider upgrading via the '/Library/Frameworks/Python.framework/Versions/3.8/bin/python3.8 -m pip install --upgrade pip' command.\u001b[0m\n"
     ]
    }
   ],
   "source": [
    "!pip install CMake"
   ]
  },
  {
   "cell_type": "code",
   "execution_count": 21,
   "metadata": {},
   "outputs": [],
   "source": [
    "image = face_recognition.load_image_file(\"/Users/tonleon/Documents/GitHub/Diploma/Films/2012_frames/249_frame.jpg\")\n",
    "face_locations = face_recognition.face_locations(image)"
   ]
  },
  {
   "cell_type": "code",
   "execution_count": 22,
   "metadata": {},
   "outputs": [
    {
     "data": {
      "text/plain": [
       "[(26, 210, 78, 158)]"
      ]
     },
     "execution_count": 22,
     "metadata": {},
     "output_type": "execute_result"
    }
   ],
   "source": [
    "face_locations"
   ]
  },
  {
   "cell_type": "code",
   "execution_count": 23,
   "metadata": {},
   "outputs": [],
   "source": [
    "face_landmarks_list = face_recognition.face_landmarks(image)"
   ]
  },
  {
   "cell_type": "code",
   "execution_count": 24,
   "metadata": {},
   "outputs": [
    {
     "data": {
      "text/plain": [
       "[{'chin': [(158, 47),\n",
       "   (159, 53),\n",
       "   (160, 59),\n",
       "   (162, 65),\n",
       "   (166, 70),\n",
       "   (170, 74),\n",
       "   (176, 76),\n",
       "   (182, 78),\n",
       "   (188, 79),\n",
       "   (193, 78),\n",
       "   (196, 75),\n",
       "   (198, 70),\n",
       "   (198, 65),\n",
       "   (199, 60),\n",
       "   (199, 55),\n",
       "   (199, 50),\n",
       "   (198, 45)],\n",
       "  'left_eyebrow': [(170, 43), (173, 41), (176, 40), (180, 41), (183, 42)],\n",
       "  'right_eyebrow': [(189, 41), (191, 40), (193, 40), (196, 40), (197, 42)],\n",
       "  'nose_bridge': [(187, 44), (188, 48), (189, 52), (190, 56)],\n",
       "  'nose_tip': [(185, 58), (187, 59), (189, 59), (190, 59), (192, 58)],\n",
       "  'left_eye': [(175, 46),\n",
       "   (177, 45),\n",
       "   (179, 45),\n",
       "   (181, 46),\n",
       "   (180, 47),\n",
       "   (177, 47)],\n",
       "  'right_eye': [(190, 46),\n",
       "   (192, 45),\n",
       "   (193, 45),\n",
       "   (195, 46),\n",
       "   (194, 47),\n",
       "   (192, 47)],\n",
       "  'top_lip': [(182, 66),\n",
       "   (185, 64),\n",
       "   (187, 63),\n",
       "   (189, 64),\n",
       "   (190, 64),\n",
       "   (191, 64),\n",
       "   (192, 66),\n",
       "   (191, 66),\n",
       "   (190, 65),\n",
       "   (189, 65),\n",
       "   (187, 65),\n",
       "   (183, 65)],\n",
       "  'bottom_lip': [(192, 66),\n",
       "   (191, 66),\n",
       "   (190, 66),\n",
       "   (189, 66),\n",
       "   (187, 66),\n",
       "   (185, 66),\n",
       "   (182, 66),\n",
       "   (183, 65),\n",
       "   (187, 64),\n",
       "   (189, 65),\n",
       "   (190, 65),\n",
       "   (191, 66)]}]"
      ]
     },
     "execution_count": 24,
     "metadata": {},
     "output_type": "execute_result"
    }
   ],
   "source": [
    "face_landmarks_list"
   ]
  },
  {
   "cell_type": "code",
   "execution_count": 40,
   "metadata": {},
   "outputs": [
    {
     "name": "stdout",
     "output_type": "stream",
     "text": [
      "Nothing\n"
     ]
    }
   ],
   "source": [
    "known_image = face_recognition.load_image_file(\"/Users/tonleon/Desktop/4184.jpg\")\n",
    "unknown_image = face_recognition.load_image_file('/Users/tonleon/Documents/GitHub/Diploma/Films/2012_frames/301_frame.jpg')\n",
    "\n",
    "known_face_names = \"Keira Knightley\"\n",
    "keira_encoding = face_recognition.face_encodings(known_image)\n",
    "\n",
    "unknown_encoding = face_recognition.face_encodings(unknown_image)\n",
    "if len(unknown_encoding) != 0:\n",
    "    unknown_encoding = unknown_encoding[0]\n",
    "    results = face_recognition.compare_faces([keira_encoding], unknown_encoding)\n",
    "else:\n",
    "    print('Nothing')\n",
    "\n"
   ]
  },
  {
   "cell_type": "code",
   "execution_count": 25,
   "metadata": {},
   "outputs": [
    {
     "name": "stdout",
     "output_type": "stream",
     "text": [
      "['Keira Knightley']\n"
     ]
    }
   ],
   "source": [
    "if results:\n",
    "    print(known_face_names)"
   ]
  },
  {
   "cell_type": "code",
   "execution_count": 15,
   "metadata": {},
   "outputs": [],
   "source": [
    "known_face_encodings = [\n",
    "    keira_encoding\n",
    "]\n",
    "known_face_names = [\n",
    "    \"Keira Knightley\"\n",
    "]"
   ]
  },
  {
   "cell_type": "code",
   "execution_count": 16,
   "metadata": {},
   "outputs": [],
   "source": [
    "# Initialize some variables\n",
    "face_locations = []\n",
    "face_encodings = []\n",
    "face_names = []\n",
    "process_this_frame = True"
   ]
  },
  {
   "cell_type": "code",
   "execution_count": null,
   "metadata": {},
   "outputs": [],
   "source": []
  }
 ],
 "metadata": {
  "kernelspec": {
   "display_name": "Python 3",
   "language": "python",
   "name": "python3"
  },
  "language_info": {
   "codemirror_mode": {
    "name": "ipython",
    "version": 3
   },
   "file_extension": ".py",
   "mimetype": "text/x-python",
   "name": "python",
   "nbconvert_exporter": "python",
   "pygments_lexer": "ipython3",
   "version": "3.8.1"
  }
 },
 "nbformat": 4,
 "nbformat_minor": 4
}
