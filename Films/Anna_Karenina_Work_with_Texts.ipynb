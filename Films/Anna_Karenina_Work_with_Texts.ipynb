{
 "cells": [
  {
   "cell_type": "code",
   "execution_count": 308,
   "metadata": {},
   "outputs": [],
   "source": [
    "import pandas as pd\n",
    "from pandas import DataFrame\n",
    "import seaborn as sns\n",
    "import matplotlib.pyplot as plt\n",
    "import numpy as np\n",
    "from nltk.tokenize import RegexpTokenizer as rt\n",
    "from stop_words import get_stop_words\n",
    "import re\n",
    "from pymystem3 import Mystem\n",
    "from sklearn.feature_extraction.text import TfidfVectorizer\n",
    "from sklearn.decomposition import PCA\n",
    "from sklearn.manifold import TSNE\n",
    "\n",
    "\n",
    "sns.set()\n",
    "mystem = Mystem()"
   ]
  },
  {
   "cell_type": "markdown",
   "metadata": {},
   "source": [
    "## Обработка текстов субтитров и прямой-косвенной речи романа: лемматизация, токенизация, удаление стоп-слов"
   ]
  },
  {
   "cell_type": "code",
   "execution_count": 2,
   "metadata": {},
   "outputs": [],
   "source": [
    "'''Подгружаю стоп-слова и пунктуацию'''\n",
    "stop_words = get_stop_words('ru')\n",
    "for letter in range(1072,1104):\n",
    "        stop_words.append(chr(letter))\n",
    "\n",
    "stop_words = set(stop_words)\n",
    "deleter_punct = rt('\\w+')"
   ]
  },
  {
   "cell_type": "code",
   "execution_count": 220,
   "metadata": {},
   "outputs": [],
   "source": [
    "'''функция для открытия документа'''\n",
    "def open_doc(path_to_doc, encoding):\n",
    "    with open(path_to_doc, encoding = encoding) as file:\n",
    "        text = file.read()\n",
    "        file.close()\n",
    "    return text"
   ]
  },
  {
   "cell_type": "code",
   "execution_count": 13,
   "metadata": {},
   "outputs": [],
   "source": [
    "'''функция для приведения строки к леммам, токенам, очистки ее от стоп-слов и пунктуации, \n",
    "на выходе - строка и список'''\n",
    "def processed_text(original_text):\n",
    "    lemmas = ' '.join(mystem.lemmatize(original_text))\n",
    "    tokens = deleter_punct.tokenize(lemmas)\n",
    "    without_punct_and_stopwords = []\n",
    "    for word in tokens:\n",
    "        if word not in stop_words:\n",
    "            without_punct_and_stopwords.append(word)\n",
    "    text = ' '.join(without_punct_and_stopwords)\n",
    "    return without_punct_and_stopwords, text"
   ]
  },
  {
   "cell_type": "code",
   "execution_count": 210,
   "metadata": {},
   "outputs": [],
   "source": [
    "'''функция для сохранения текста'''\n",
    "def save_subtitles(subtitles, year):\n",
    "    with open(\"./Processed_texts/Processed_Subtitles_{}.txt\".format(year), \"w\") as file:\n",
    "        file.write(subtitles)"
   ]
  },
  {
   "cell_type": "code",
   "execution_count": 263,
   "metadata": {},
   "outputs": [
    {
     "name": "stdout",
     "output_type": "stream",
     "text": [
      "Processed_Subtitles_1967.txt\r\n",
      "Processed_Subtitles_1997.txt\r\n",
      "Processed_Subtitles_2012.txt\r\n",
      "Processed_Subtitles_Origianl_text_1877.txt\r\n",
      "Processed_Subtitles_Part_1.txt\r\n",
      "Processed_Subtitles_Part_2.txt\r\n",
      "Processed_Subtitles_Part_3.txt\r\n",
      "Processed_Subtitles_Part_4.txt\r\n",
      "Processed_Subtitles_Part_5.txt\r\n",
      "Processed_Subtitles_Part_6.txt\r\n",
      "Processed_Subtitles_Part_7.txt\r\n",
      "Processed_Subtitles_Part_8.txt\r\n"
     ]
    }
   ],
   "source": [
    "!cd /\n",
    "!ls"
   ]
  },
  {
   "cell_type": "code",
   "execution_count": 255,
   "metadata": {},
   "outputs": [
    {
     "ename": "FileNotFoundError",
     "evalue": "[Errno 2] No such file or directory: './Subtitles_and_Speech/Reported_and_Directed_speech_in_Anna_Karenina_Part_1.txt'",
     "output_type": "error",
     "traceback": [
      "\u001b[0;31m---------------------------------------------------------------------------\u001b[0m",
      "\u001b[0;31mFileNotFoundError\u001b[0m                         Traceback (most recent call last)",
      "\u001b[0;32m<ipython-input-255-ec78c966ad15>\u001b[0m in \u001b[0;36m<module>\u001b[0;34m\u001b[0m\n\u001b[0;32m----> 1\u001b[0;31m \u001b[0moriginal_text_part_1\u001b[0m \u001b[0;34m=\u001b[0m \u001b[0mopen_doc\u001b[0m\u001b[0;34m(\u001b[0m\u001b[0;34mr'./Subtitles_and_Speech/Reported_and_Directed_speech_in_Anna_Karenina_Part_1.txt'\u001b[0m\u001b[0;34m,\u001b[0m \u001b[0;34m'utf8'\u001b[0m\u001b[0;34m)\u001b[0m\u001b[0;34m\u001b[0m\u001b[0;34m\u001b[0m\u001b[0m\n\u001b[0m\u001b[1;32m      2\u001b[0m \u001b[0moriginal_text_part_2\u001b[0m \u001b[0;34m=\u001b[0m \u001b[0mopen_doc\u001b[0m\u001b[0;34m(\u001b[0m\u001b[0;34mr'./Subtitles_and_Speech/Reported_and_Directed_speech_in_Anna_Karenina_Part_2.txt'\u001b[0m\u001b[0;34m,\u001b[0m \u001b[0;34m'utf8'\u001b[0m\u001b[0;34m)\u001b[0m\u001b[0;34m\u001b[0m\u001b[0;34m\u001b[0m\u001b[0m\n\u001b[1;32m      3\u001b[0m \u001b[0moriginal_text_part_3\u001b[0m \u001b[0;34m=\u001b[0m \u001b[0mopen_doc\u001b[0m\u001b[0;34m(\u001b[0m\u001b[0;34mr'./Subtitles_and_Speech/Reported_and_Directed_speech_in_Anna_Karenina_Part_3.txt'\u001b[0m\u001b[0;34m,\u001b[0m \u001b[0;34m'utf8'\u001b[0m\u001b[0;34m)\u001b[0m\u001b[0;34m\u001b[0m\u001b[0;34m\u001b[0m\u001b[0m\n\u001b[1;32m      4\u001b[0m \u001b[0moriginal_text_part_4\u001b[0m \u001b[0;34m=\u001b[0m \u001b[0mopen_doc\u001b[0m\u001b[0;34m(\u001b[0m\u001b[0;34mr'./Subtitles_and_Speech/Reported_and_Directed_speech_in_Anna_Karenina_Part_4.txt'\u001b[0m\u001b[0;34m,\u001b[0m \u001b[0;34m'utf8'\u001b[0m\u001b[0;34m)\u001b[0m\u001b[0;34m\u001b[0m\u001b[0;34m\u001b[0m\u001b[0m\n\u001b[1;32m      5\u001b[0m \u001b[0moriginal_text_part_5\u001b[0m \u001b[0;34m=\u001b[0m \u001b[0mopen_doc\u001b[0m\u001b[0;34m(\u001b[0m\u001b[0;34mr'./Subtitles_and_Speech/Reported_and_Directed_speech_in_Anna_Karenina_Part_5.txt'\u001b[0m\u001b[0;34m,\u001b[0m \u001b[0;34m'utf8'\u001b[0m\u001b[0;34m)\u001b[0m\u001b[0;34m\u001b[0m\u001b[0;34m\u001b[0m\u001b[0m\n",
      "\u001b[0;32m<ipython-input-220-38f39a5e315b>\u001b[0m in \u001b[0;36mopen_doc\u001b[0;34m(path_to_doc, encoding)\u001b[0m\n\u001b[1;32m      1\u001b[0m \u001b[0;32mdef\u001b[0m \u001b[0mopen_doc\u001b[0m\u001b[0;34m(\u001b[0m\u001b[0mpath_to_doc\u001b[0m\u001b[0;34m,\u001b[0m \u001b[0mencoding\u001b[0m\u001b[0;34m)\u001b[0m\u001b[0;34m:\u001b[0m\u001b[0;34m\u001b[0m\u001b[0;34m\u001b[0m\u001b[0m\n\u001b[0;32m----> 2\u001b[0;31m     \u001b[0;32mwith\u001b[0m \u001b[0mopen\u001b[0m\u001b[0;34m(\u001b[0m\u001b[0mpath_to_doc\u001b[0m\u001b[0;34m,\u001b[0m \u001b[0mencoding\u001b[0m \u001b[0;34m=\u001b[0m \u001b[0mencoding\u001b[0m\u001b[0;34m)\u001b[0m \u001b[0;32mas\u001b[0m \u001b[0mfile\u001b[0m\u001b[0;34m:\u001b[0m\u001b[0;34m\u001b[0m\u001b[0;34m\u001b[0m\u001b[0m\n\u001b[0m\u001b[1;32m      3\u001b[0m         \u001b[0mtext\u001b[0m \u001b[0;34m=\u001b[0m \u001b[0mfile\u001b[0m\u001b[0;34m.\u001b[0m\u001b[0mread\u001b[0m\u001b[0;34m(\u001b[0m\u001b[0;34m)\u001b[0m\u001b[0;34m\u001b[0m\u001b[0;34m\u001b[0m\u001b[0m\n\u001b[1;32m      4\u001b[0m         \u001b[0mfile\u001b[0m\u001b[0;34m.\u001b[0m\u001b[0mclose\u001b[0m\u001b[0;34m(\u001b[0m\u001b[0;34m)\u001b[0m\u001b[0;34m\u001b[0m\u001b[0;34m\u001b[0m\u001b[0m\n\u001b[1;32m      5\u001b[0m     \u001b[0;32mreturn\u001b[0m \u001b[0mtext\u001b[0m\u001b[0;34m\u001b[0m\u001b[0;34m\u001b[0m\u001b[0m\n",
      "\u001b[0;31mFileNotFoundError\u001b[0m: [Errno 2] No such file or directory: './Subtitles_and_Speech/Reported_and_Directed_speech_in_Anna_Karenina_Part_1.txt'"
     ]
    }
   ],
   "source": [
    "original_text_part_1 = open_doc('./Subtitles_and_Speech/Reported_and_Directed_speech_in_Anna_Karenina_Part_1.txt', 'utf8')\n",
    "original_text_part_2 = open_doc('./Subtitles_and_Speech/Reported_and_Directed_speech_in_Anna_Karenina_Part_2.txt', 'utf8')\n",
    "original_text_part_3 = open_doc('./Subtitles_and_Speech/Reported_and_Directed_speech_in_Anna_Karenina_Part_3.txt', 'utf8')\n",
    "original_text_part_4 = open_doc('./Subtitles_and_Speech/Reported_and_Directed_speech_in_Anna_Karenina_Part_4.txt', 'utf8')\n",
    "original_text_part_5 = open_doc('./Subtitles_and_Speech/Reported_and_Directed_speech_in_Anna_Karenina_Part_5.txt', 'utf8')\n",
    "original_text_part_6 = open_doc('./Subtitles_and_Speech/Reported_and_Directed_speech_in_Anna_Karenina_Part_6.txt', 'utf8')\n",
    "original_text_part_7 = open_doc('./Subtitles_and_Speech/Reported_and_Directed_speech_in_Anna_Karenina_Part_7.txt', 'utf8')\n",
    "original_text_part_8 = open_doc('./Subtitles_and_Speech/Reported_and_Directed_speech_in_Anna_Karenina_Part_8.txt', 'utf8')\n",
    "\n",
    "sub_1967 = open_doc('./Subtitles_and_Speech/Subtitles_1967.txt', 'utf8')\n",
    "sub_1997 = open_doc('./Subtitles_and_Speech/Subtitles_1997.txt', 'utf8')\n",
    "sub_2012 = open_doc('./Subtitles_and_Speech/Subtitles_2012.txt', 'utf8')"
   ]
  },
  {
   "cell_type": "code",
   "execution_count": 117,
   "metadata": {},
   "outputs": [],
   "source": [
    "lst_of_processed_original_text_part_1, processed_original_text_part_1 = processed_text(original_text_part_1)\n",
    "lst_of_processed_original_text_part_2, processed_original_text_part_2 = processed_text(original_text_part_2)\n",
    "lst_of_processed_original_text_part_3, processed_original_text_part_3 = processed_text(original_text_part_3)\n",
    "lst_of_processed_original_text_part_4, processed_original_text_part_4 = processed_text(original_text_part_4)\n",
    "lst_of_processed_original_text_part_5, processed_original_text_part_5 = processed_text(original_text_part_5)\n",
    "lst_of_processed_original_text_part_6, processed_original_text_part_6 = processed_text(original_text_part_6)\n",
    "lst_of_processed_original_text_part_7, processed_original_text_part_7 = processed_text(original_text_part_7)\n",
    "lst_of_processed_original_text_part_8, processed_original_text_part_8 = processed_text(original_text_part_8)\n",
    "\n",
    "lst_of_processed_sub_1967, processed_sub_1967 = processed_text(sub_1967)\n",
    "lst_of_processed_sub_1997, processed_sub_1997 = processed_text(sub_1997)\n",
    "lst_of_processed_sub_2012, processed_sub_2012 = processed_text(sub_2012)"
   ]
  },
  {
   "cell_type": "code",
   "execution_count": 118,
   "metadata": {},
   "outputs": [],
   "source": [
    "save_subtitles(processed_sub_1967, 1967)\n",
    "save_subtitles(processed_sub_1997, 1997)\n",
    "save_subtitles(processed_sub_2012, 2012)\n",
    "save_subtitles(processed_original_text_part_1, 'Part_1')\n",
    "save_subtitles(processed_original_text_part_2, 'Part_2')\n",
    "save_subtitles(processed_original_text_part_3, 'Part_3')\n",
    "save_subtitles(processed_original_text_part_4, 'Part_4')\n",
    "save_subtitles(processed_original_text_part_5, 'Part_5')\n",
    "save_subtitles(processed_original_text_part_6, 'Part_6')\n",
    "save_subtitles(processed_original_text_part_7, 'Part_7')\n",
    "save_subtitles(processed_original_text_part_8, 'Part_8')"
   ]
  },
  {
   "cell_type": "markdown",
   "metadata": {},
   "source": [
    "## Подсчеты разных статистик"
   ]
  },
  {
   "cell_type": "code",
   "execution_count": 95,
   "metadata": {},
   "outputs": [],
   "source": [
    "'''словарь размерности моих документов'''\n",
    "\n",
    "dict_of_sub_size = {\"\\n Part I:\" : len(lst_of_processed_original_text_part_1),\n",
    "      \"\\n Part II:\" : len(lst_of_processed_original_text_part_2),\n",
    "      \"\\n Part III:\" : len(lst_of_processed_original_text_part_3),\n",
    "      \"\\n Part IV:\": len(lst_of_processed_original_text_part_4),\n",
    "      \"\\n Part V:\": len(lst_of_processed_original_text_part_5),\n",
    "      \"\\n Part VI:\": len(lst_of_processed_original_text_part_6),\n",
    "      \"\\n Part VII:\": len(lst_of_processed_original_text_part_7),\n",
    "      \"\\n Part VIII:\": len(lst_of_processed_original_text_part_8),\n",
    "\n",
    "      \"\\n Subtitles of 1967:\": len(lst_of_processed_sub_1967),\n",
    "      \"\\n Subtitles of 1997:\": len(lst_of_processed_sub_1997),\n",
    "      \"\\n Subtitles of 2012:\": len(lst_of_processed_sub_2012)}"
   ]
  },
  {
   "cell_type": "code",
   "execution_count": 200,
   "metadata": {},
   "outputs": [
    {
     "data": {
      "image/png": "[encoded data removed]",
      "text/plain": [
       "<Figure size 432x288 with 1 Axes>"
      ]
     },
     "metadata": {},
     "output_type": "display_data"
    }
   ],
   "source": [
    "'''просто график с тем, сколько где слов после удаления стоп слов и прочего - можно сравнить с тем, \n",
    "сколько до того,как я убрала стоп-слова'''\n",
    "jet = plt.get_cmap('Set3')\n",
    "N = len(dict_of_sub_size)\n",
    "plt.bar(range(N), dict_of_sub_size.values(), align='center', color=jet(np.linspace(0, 1.0, N)))\n",
    "plt.xticks(range(N), dict_of_sub_size.keys(), rotation=70)\n",
    "plt.show()"
   ]
  },
  {
   "cell_type": "code",
   "execution_count": 24,
   "metadata": {},
   "outputs": [],
   "source": [
    "'''функция для подсчета количества слов в тексте и создания словаря слово:число'''\n",
    "def counting_words(list_of_words):\n",
    "    dict_with_quantity = {}\n",
    "    for word in list_of_words:\n",
    "        if word in dict_with_quantity:\n",
    "            dict_with_quantity[word] +=1\n",
    "        else:\n",
    "            dict_with_quantity[word]=1\n",
    "    return dict_with_quantity"
   ]
  },
  {
   "cell_type": "code",
   "execution_count": 32,
   "metadata": {},
   "outputs": [],
   "source": [
    "'''функция для сортировки словаря и заодно для создания из словаря датафрейма на всякий случай'''\n",
    "def creating_sorted_dict_with_word_and_freq(dict_with_quantity):\n",
    "    dict_with_counted_words = {key: value for key, value in sorted(dict_with_quantity.items(), key=lambda item: item[1], reverse=True)}\n",
    "    dict_for_dataframe = [[word, num] for word, num in dict_with_counted_words.items()]\n",
    "    return dict_with_counted_words, dict_for_dataframe"
   ]
  },
  {
   "cell_type": "code",
   "execution_count": 26,
   "metadata": {},
   "outputs": [],
   "source": [
    "'''тут можно создать дф и сохранить наши данные'''\n",
    "def count_word_list_to_pandas(dict_for_dataframe):\n",
    "    table_counted_words = pd.DataFrame(dict_for_dataframe, columns=['Слово', 'Частотность'])\n",
    "    table_counted_words.to_csv('Dictionary.tsv', sep='\\t')\n",
    "    return table_counted_words "
   ]
  },
  {
   "cell_type": "code",
   "execution_count": 205,
   "metadata": {},
   "outputs": [],
   "source": [
    "'''функция для визуализации'''\n",
    "def visualization(x, index=30):\n",
    "    words = []\n",
    "    numbers = []\n",
    "    for data in x:\n",
    "        words.append(data[0])\n",
    "        numbers.append(data[1])\n",
    "    plt.figure(figsize = (10,5))    \n",
    "    plt.scatter(words[:index], numbers[:index])\n",
    "    plt.title('Самые частотные слова', fontsize=30)\n",
    "    plt.ylabel('Количество', fontsize=18)\n",
    "    plt.xlabel('Слова', fontsize=18)\n",
    "    plt.tight_layout()\n",
    "    plt.xticks(rotation=90, fontsize = 14)\n",
    "    plt.yticks(fontsize = 14)\n",
    "    "
   ]
  },
  {
   "cell_type": "code",
   "execution_count": 36,
   "metadata": {},
   "outputs": [],
   "source": [
    "count_origin, dict_for_df_origin = creating_sorted_dict_with_word_and_freq(counting_words(lst_of_processed_original_text))\n",
    "count_1967, dict_for_df_1967 = creating_sorted_dict_with_word_and_freq(counting_words(lst_of_processed_sub_1967))\n",
    "count_1997, dict_for_df_1997 = creating_sorted_dict_with_word_and_freq(counting_words(lst_of_processed_sub_1997))\n",
    "count_2012, dict_for_df_2012 = creating_sorted_dict_with_word_and_freq(counting_words(lst_of_processed_sub_2012))"
   ]
  },
  {
   "cell_type": "code",
   "execution_count": 206,
   "metadata": {},
   "outputs": [
    {
     "data": {
      "image/png": "[encoded data removed]",
      "text/plain": [
       "<Figure size 720x360 with 1 Axes>"
      ]
     },
     "metadata": {},
     "output_type": "display_data"
    }
   ],
   "source": [
    "visualization(dict_for_df_1997, index=50)\n"
   ]
  },
  {
   "cell_type": "markdown",
   "metadata": {},
   "source": [
    "Тут стоит посмотерть, какие слова общие для всех субтитров и оригинала, а потом например вывести их и вывести n слов, которые уникальны и популярны для конкретного текста"
   ]
  },
  {
   "cell_type": "markdown",
   "metadata": {},
   "source": [
    "## Тематическое моделирование"
   ]
  },
  {
   "cell_type": "markdown",
   "metadata": {},
   "source": [
    "Я делала его через терминал в Mallet, поэтому сюда я просто подгружаю результаты выдачи. Параметры, заданные мной, следующие:\n",
    "* --num-topics 10\n",
    "* --num-iterations 5000\n",
    "* --optimize-interval 50"
   ]
  },
  {
   "cell_type": "markdown",
   "metadata": {},
   "source": [
    "Посмотрим на то, с какой вероятностью та или иная тема затрагивается в наших документах (замечу: мои документы - это 3 файла с субтитрами за 1967, 1997 и 2012 года, а также 8 файлов прямой и косвенной речи в романе. 8 их потому, что каждый из них отвечает за одну часть романа. Если проводить TM на речи персонажей из всего романа и на субтитрах, то вообе ничего не понятно, слишком большая разница в размерности текстов)"
   ]
  },
  {
   "cell_type": "code",
   "execution_count": 155,
   "metadata": {},
   "outputs": [],
   "source": [
    "'''подгружаю результаты TM'''\n",
    "topics = pd.read_csv('/Users/tonleon/Desktop/mallet-2.0.8/topics_in_docs.csv', header=None, index_col=None, sep = '\\t' )"
   ]
  },
  {
   "cell_type": "code",
   "execution_count": 156,
   "metadata": {},
   "outputs": [
    {
     "data": {
      "text/html": [
       "<div>\n",
       "<style scoped>\n",
       "    .dataframe tbody tr th:only-of-type {\n",
       "        vertical-align: middle;\n",
       "    }\n",
       "\n",
       "    .dataframe tbody tr th {\n",
       "        vertical-align: top;\n",
       "    }\n",
       "\n",
       "    .dataframe thead th {\n",
       "        text-align: right;\n",
       "    }\n",
       "</style>\n",
       "<table border=\"1\" class=\"dataframe\">\n",
       "  <thead>\n",
       "    <tr style=\"text-align: right;\">\n",
       "      <th></th>\n",
       "      <th>0</th>\n",
       "      <th>1</th>\n",
       "      <th>2</th>\n",
       "      <th>3</th>\n",
       "      <th>4</th>\n",
       "      <th>5</th>\n",
       "      <th>6</th>\n",
       "      <th>7</th>\n",
       "      <th>8</th>\n",
       "      <th>9</th>\n",
       "      <th>10</th>\n",
       "      <th>11</th>\n",
       "    </tr>\n",
       "  </thead>\n",
       "  <tbody>\n",
       "    <tr>\n",
       "      <th>0</th>\n",
       "      <td>0</td>\n",
       "      <td>file:/Users/tonleon/Desktop/mallet-2.0.8/subti...</td>\n",
       "      <td>0.000012</td>\n",
       "      <td>0.000275</td>\n",
       "      <td>0.000005</td>\n",
       "      <td>0.012934</td>\n",
       "      <td>0.282623</td>\n",
       "      <td>0.000021</td>\n",
       "      <td>0.000005</td>\n",
       "      <td>0.693961</td>\n",
       "      <td>0.010143</td>\n",
       "      <td>0.000022</td>\n",
       "    </tr>\n",
       "    <tr>\n",
       "      <th>1</th>\n",
       "      <td>1</td>\n",
       "      <td>file:/Users/tonleon/Desktop/mallet-2.0.8/subti...</td>\n",
       "      <td>0.000014</td>\n",
       "      <td>0.000027</td>\n",
       "      <td>0.000006</td>\n",
       "      <td>0.124715</td>\n",
       "      <td>0.014917</td>\n",
       "      <td>0.015838</td>\n",
       "      <td>0.000006</td>\n",
       "      <td>0.763231</td>\n",
       "      <td>0.076963</td>\n",
       "      <td>0.004283</td>\n",
       "    </tr>\n",
       "    <tr>\n",
       "      <th>2</th>\n",
       "      <td>2</td>\n",
       "      <td>file:/Users/tonleon/Desktop/mallet-2.0.8/subti...</td>\n",
       "      <td>0.356265</td>\n",
       "      <td>0.000021</td>\n",
       "      <td>0.001945</td>\n",
       "      <td>0.002697</td>\n",
       "      <td>0.000013</td>\n",
       "      <td>0.010933</td>\n",
       "      <td>0.000005</td>\n",
       "      <td>0.627108</td>\n",
       "      <td>0.000265</td>\n",
       "      <td>0.000748</td>\n",
       "    </tr>\n",
       "    <tr>\n",
       "      <th>3</th>\n",
       "      <td>3</td>\n",
       "      <td>file:/Users/tonleon/Desktop/mallet-2.0.8/subti...</td>\n",
       "      <td>0.000011</td>\n",
       "      <td>0.000020</td>\n",
       "      <td>0.000004</td>\n",
       "      <td>0.000027</td>\n",
       "      <td>0.009244</td>\n",
       "      <td>0.000018</td>\n",
       "      <td>0.000004</td>\n",
       "      <td>0.733510</td>\n",
       "      <td>0.000021</td>\n",
       "      <td>0.257142</td>\n",
       "    </tr>\n",
       "    <tr>\n",
       "      <th>4</th>\n",
       "      <td>4</td>\n",
       "      <td>file:/Users/tonleon/Desktop/mallet-2.0.8/subti...</td>\n",
       "      <td>0.000887</td>\n",
       "      <td>0.000026</td>\n",
       "      <td>0.000005</td>\n",
       "      <td>0.268782</td>\n",
       "      <td>0.000016</td>\n",
       "      <td>0.000024</td>\n",
       "      <td>0.000006</td>\n",
       "      <td>0.730203</td>\n",
       "      <td>0.000027</td>\n",
       "      <td>0.000025</td>\n",
       "    </tr>\n",
       "    <tr>\n",
       "      <th>5</th>\n",
       "      <td>5</td>\n",
       "      <td>file:/Users/tonleon/Desktop/mallet-2.0.8/subti...</td>\n",
       "      <td>0.000015</td>\n",
       "      <td>0.008205</td>\n",
       "      <td>0.000006</td>\n",
       "      <td>0.000038</td>\n",
       "      <td>0.000017</td>\n",
       "      <td>0.320206</td>\n",
       "      <td>0.000006</td>\n",
       "      <td>0.665790</td>\n",
       "      <td>0.005690</td>\n",
       "      <td>0.000027</td>\n",
       "    </tr>\n",
       "    <tr>\n",
       "      <th>6</th>\n",
       "      <td>6</td>\n",
       "      <td>file:/Users/tonleon/Desktop/mallet-2.0.8/subti...</td>\n",
       "      <td>0.000253</td>\n",
       "      <td>0.009677</td>\n",
       "      <td>0.000005</td>\n",
       "      <td>0.007513</td>\n",
       "      <td>0.000013</td>\n",
       "      <td>0.000020</td>\n",
       "      <td>0.265547</td>\n",
       "      <td>0.716930</td>\n",
       "      <td>0.000022</td>\n",
       "      <td>0.000021</td>\n",
       "    </tr>\n",
       "    <tr>\n",
       "      <th>7</th>\n",
       "      <td>7</td>\n",
       "      <td>file:/Users/tonleon/Desktop/mallet-2.0.8/subti...</td>\n",
       "      <td>0.000414</td>\n",
       "      <td>0.000220</td>\n",
       "      <td>0.306626</td>\n",
       "      <td>0.010535</td>\n",
       "      <td>0.013958</td>\n",
       "      <td>0.026293</td>\n",
       "      <td>0.011121</td>\n",
       "      <td>0.630799</td>\n",
       "      <td>0.000018</td>\n",
       "      <td>0.000017</td>\n",
       "    </tr>\n",
       "    <tr>\n",
       "      <th>8</th>\n",
       "      <td>8</td>\n",
       "      <td>file:/Users/tonleon/Desktop/mallet-2.0.8/subti...</td>\n",
       "      <td>0.000018</td>\n",
       "      <td>0.000033</td>\n",
       "      <td>0.000007</td>\n",
       "      <td>0.000046</td>\n",
       "      <td>0.000021</td>\n",
       "      <td>0.000031</td>\n",
       "      <td>0.000007</td>\n",
       "      <td>0.561172</td>\n",
       "      <td>0.436753</td>\n",
       "      <td>0.001913</td>\n",
       "    </tr>\n",
       "    <tr>\n",
       "      <th>9</th>\n",
       "      <td>9</td>\n",
       "      <td>file:/Users/tonleon/Desktop/mallet-2.0.8/subti...</td>\n",
       "      <td>0.000020</td>\n",
       "      <td>0.493120</td>\n",
       "      <td>0.000008</td>\n",
       "      <td>0.002183</td>\n",
       "      <td>0.000023</td>\n",
       "      <td>0.000035</td>\n",
       "      <td>0.000008</td>\n",
       "      <td>0.504528</td>\n",
       "      <td>0.000039</td>\n",
       "      <td>0.000036</td>\n",
       "    </tr>\n",
       "    <tr>\n",
       "      <th>10</th>\n",
       "      <td>10</td>\n",
       "      <td>file:/Users/tonleon/Desktop/mallet-2.0.8/subti...</td>\n",
       "      <td>0.000020</td>\n",
       "      <td>0.038642</td>\n",
       "      <td>0.000008</td>\n",
       "      <td>0.000053</td>\n",
       "      <td>0.000024</td>\n",
       "      <td>0.000035</td>\n",
       "      <td>0.000008</td>\n",
       "      <td>0.628445</td>\n",
       "      <td>0.288051</td>\n",
       "      <td>0.044713</td>\n",
       "    </tr>\n",
       "  </tbody>\n",
       "</table>\n",
       "</div>"
      ],
      "text/plain": [
       "    0                                                  1         2         3   \\\n",
       "0    0  file:/Users/tonleon/Desktop/mallet-2.0.8/subti...  0.000012  0.000275   \n",
       "1    1  file:/Users/tonleon/Desktop/mallet-2.0.8/subti...  0.000014  0.000027   \n",
       "2    2  file:/Users/tonleon/Desktop/mallet-2.0.8/subti...  0.356265  0.000021   \n",
       "3    3  file:/Users/tonleon/Desktop/mallet-2.0.8/subti...  0.000011  0.000020   \n",
       "4    4  file:/Users/tonleon/Desktop/mallet-2.0.8/subti...  0.000887  0.000026   \n",
       "5    5  file:/Users/tonleon/Desktop/mallet-2.0.8/subti...  0.000015  0.008205   \n",
       "6    6  file:/Users/tonleon/Desktop/mallet-2.0.8/subti...  0.000253  0.009677   \n",
       "7    7  file:/Users/tonleon/Desktop/mallet-2.0.8/subti...  0.000414  0.000220   \n",
       "8    8  file:/Users/tonleon/Desktop/mallet-2.0.8/subti...  0.000018  0.000033   \n",
       "9    9  file:/Users/tonleon/Desktop/mallet-2.0.8/subti...  0.000020  0.493120   \n",
       "10  10  file:/Users/tonleon/Desktop/mallet-2.0.8/subti...  0.000020  0.038642   \n",
       "\n",
       "          4         5         6         7         8         9         10  \\\n",
       "0   0.000005  0.012934  0.282623  0.000021  0.000005  0.693961  0.010143   \n",
       "1   0.000006  0.124715  0.014917  0.015838  0.000006  0.763231  0.076963   \n",
       "2   0.001945  0.002697  0.000013  0.010933  0.000005  0.627108  0.000265   \n",
       "3   0.000004  0.000027  0.009244  0.000018  0.000004  0.733510  0.000021   \n",
       "4   0.000005  0.268782  0.000016  0.000024  0.000006  0.730203  0.000027   \n",
       "5   0.000006  0.000038  0.000017  0.320206  0.000006  0.665790  0.005690   \n",
       "6   0.000005  0.007513  0.000013  0.000020  0.265547  0.716930  0.000022   \n",
       "7   0.306626  0.010535  0.013958  0.026293  0.011121  0.630799  0.000018   \n",
       "8   0.000007  0.000046  0.000021  0.000031  0.000007  0.561172  0.436753   \n",
       "9   0.000008  0.002183  0.000023  0.000035  0.000008  0.504528  0.000039   \n",
       "10  0.000008  0.000053  0.000024  0.000035  0.000008  0.628445  0.288051   \n",
       "\n",
       "          11  \n",
       "0   0.000022  \n",
       "1   0.004283  \n",
       "2   0.000748  \n",
       "3   0.257142  \n",
       "4   0.000025  \n",
       "5   0.000027  \n",
       "6   0.000021  \n",
       "7   0.000017  \n",
       "8   0.001913  \n",
       "9   0.000036  \n",
       "10  0.044713  "
      ]
     },
     "execution_count": 156,
     "metadata": {},
     "output_type": "execute_result"
    }
   ],
   "source": [
    "topics"
   ]
  },
  {
   "cell_type": "code",
   "execution_count": 157,
   "metadata": {},
   "outputs": [],
   "source": [
    "'''переименовываю для удобства первую колонку'''\n",
    "topics[1] = topics[1].apply(lambda x: x[-10: -4] if x.find('Part') != -1 else x[-8: -4])"
   ]
  },
  {
   "cell_type": "code",
   "execution_count": 159,
   "metadata": {},
   "outputs": [],
   "source": [
    "'''дропаю колонку с индексами, а то она дублируется'''\n",
    "topics = topics.drop(0, axis = 1)"
   ]
  },
  {
   "cell_type": "code",
   "execution_count": 160,
   "metadata": {},
   "outputs": [
    {
     "data": {
      "text/html": [
       "<div>\n",
       "<style scoped>\n",
       "    .dataframe tbody tr th:only-of-type {\n",
       "        vertical-align: middle;\n",
       "    }\n",
       "\n",
       "    .dataframe tbody tr th {\n",
       "        vertical-align: top;\n",
       "    }\n",
       "\n",
       "    .dataframe thead th {\n",
       "        text-align: right;\n",
       "    }\n",
       "</style>\n",
       "<table border=\"1\" class=\"dataframe\">\n",
       "  <thead>\n",
       "    <tr style=\"text-align: right;\">\n",
       "      <th></th>\n",
       "      <th>1</th>\n",
       "      <th>2</th>\n",
       "      <th>3</th>\n",
       "      <th>4</th>\n",
       "      <th>5</th>\n",
       "      <th>6</th>\n",
       "      <th>7</th>\n",
       "      <th>8</th>\n",
       "      <th>9</th>\n",
       "      <th>10</th>\n",
       "      <th>11</th>\n",
       "    </tr>\n",
       "  </thead>\n",
       "  <tbody>\n",
       "    <tr>\n",
       "      <th>0</th>\n",
       "      <td>Part_2</td>\n",
       "      <td>0.000012</td>\n",
       "      <td>0.000275</td>\n",
       "      <td>0.000005</td>\n",
       "      <td>0.012934</td>\n",
       "      <td>0.282623</td>\n",
       "      <td>0.000021</td>\n",
       "      <td>0.000005</td>\n",
       "      <td>0.693961</td>\n",
       "      <td>0.010143</td>\n",
       "      <td>0.000022</td>\n",
       "    </tr>\n",
       "    <tr>\n",
       "      <th>1</th>\n",
       "      <td>1967</td>\n",
       "      <td>0.000014</td>\n",
       "      <td>0.000027</td>\n",
       "      <td>0.000006</td>\n",
       "      <td>0.124715</td>\n",
       "      <td>0.014917</td>\n",
       "      <td>0.015838</td>\n",
       "      <td>0.000006</td>\n",
       "      <td>0.763231</td>\n",
       "      <td>0.076963</td>\n",
       "      <td>0.004283</td>\n",
       "    </tr>\n",
       "    <tr>\n",
       "      <th>2</th>\n",
       "      <td>Part_3</td>\n",
       "      <td>0.356265</td>\n",
       "      <td>0.000021</td>\n",
       "      <td>0.001945</td>\n",
       "      <td>0.002697</td>\n",
       "      <td>0.000013</td>\n",
       "      <td>0.010933</td>\n",
       "      <td>0.000005</td>\n",
       "      <td>0.627108</td>\n",
       "      <td>0.000265</td>\n",
       "      <td>0.000748</td>\n",
       "    </tr>\n",
       "    <tr>\n",
       "      <th>3</th>\n",
       "      <td>Part_1</td>\n",
       "      <td>0.000011</td>\n",
       "      <td>0.000020</td>\n",
       "      <td>0.000004</td>\n",
       "      <td>0.000027</td>\n",
       "      <td>0.009244</td>\n",
       "      <td>0.000018</td>\n",
       "      <td>0.000004</td>\n",
       "      <td>0.733510</td>\n",
       "      <td>0.000021</td>\n",
       "      <td>0.257142</td>\n",
       "    </tr>\n",
       "    <tr>\n",
       "      <th>4</th>\n",
       "      <td>Part_4</td>\n",
       "      <td>0.000887</td>\n",
       "      <td>0.000026</td>\n",
       "      <td>0.000005</td>\n",
       "      <td>0.268782</td>\n",
       "      <td>0.000016</td>\n",
       "      <td>0.000024</td>\n",
       "      <td>0.000006</td>\n",
       "      <td>0.730203</td>\n",
       "      <td>0.000027</td>\n",
       "      <td>0.000025</td>\n",
       "    </tr>\n",
       "    <tr>\n",
       "      <th>5</th>\n",
       "      <td>Part_5</td>\n",
       "      <td>0.000015</td>\n",
       "      <td>0.008205</td>\n",
       "      <td>0.000006</td>\n",
       "      <td>0.000038</td>\n",
       "      <td>0.000017</td>\n",
       "      <td>0.320206</td>\n",
       "      <td>0.000006</td>\n",
       "      <td>0.665790</td>\n",
       "      <td>0.005690</td>\n",
       "      <td>0.000027</td>\n",
       "    </tr>\n",
       "    <tr>\n",
       "      <th>6</th>\n",
       "      <td>Part_7</td>\n",
       "      <td>0.000253</td>\n",
       "      <td>0.009677</td>\n",
       "      <td>0.000005</td>\n",
       "      <td>0.007513</td>\n",
       "      <td>0.000013</td>\n",
       "      <td>0.000020</td>\n",
       "      <td>0.265547</td>\n",
       "      <td>0.716930</td>\n",
       "      <td>0.000022</td>\n",
       "      <td>0.000021</td>\n",
       "    </tr>\n",
       "    <tr>\n",
       "      <th>7</th>\n",
       "      <td>Part_6</td>\n",
       "      <td>0.000414</td>\n",
       "      <td>0.000220</td>\n",
       "      <td>0.306626</td>\n",
       "      <td>0.010535</td>\n",
       "      <td>0.013958</td>\n",
       "      <td>0.026293</td>\n",
       "      <td>0.011121</td>\n",
       "      <td>0.630799</td>\n",
       "      <td>0.000018</td>\n",
       "      <td>0.000017</td>\n",
       "    </tr>\n",
       "    <tr>\n",
       "      <th>8</th>\n",
       "      <td>2012</td>\n",
       "      <td>0.000018</td>\n",
       "      <td>0.000033</td>\n",
       "      <td>0.000007</td>\n",
       "      <td>0.000046</td>\n",
       "      <td>0.000021</td>\n",
       "      <td>0.000031</td>\n",
       "      <td>0.000007</td>\n",
       "      <td>0.561172</td>\n",
       "      <td>0.436753</td>\n",
       "      <td>0.001913</td>\n",
       "    </tr>\n",
       "    <tr>\n",
       "      <th>9</th>\n",
       "      <td>Part_8</td>\n",
       "      <td>0.000020</td>\n",
       "      <td>0.493120</td>\n",
       "      <td>0.000008</td>\n",
       "      <td>0.002183</td>\n",
       "      <td>0.000023</td>\n",
       "      <td>0.000035</td>\n",
       "      <td>0.000008</td>\n",
       "      <td>0.504528</td>\n",
       "      <td>0.000039</td>\n",
       "      <td>0.000036</td>\n",
       "    </tr>\n",
       "    <tr>\n",
       "      <th>10</th>\n",
       "      <td>1997</td>\n",
       "      <td>0.000020</td>\n",
       "      <td>0.038642</td>\n",
       "      <td>0.000008</td>\n",
       "      <td>0.000053</td>\n",
       "      <td>0.000024</td>\n",
       "      <td>0.000035</td>\n",
       "      <td>0.000008</td>\n",
       "      <td>0.628445</td>\n",
       "      <td>0.288051</td>\n",
       "      <td>0.044713</td>\n",
       "    </tr>\n",
       "  </tbody>\n",
       "</table>\n",
       "</div>"
      ],
      "text/plain": [
       "        1         2         3         4         5         6         7   \\\n",
       "0   Part_2  0.000012  0.000275  0.000005  0.012934  0.282623  0.000021   \n",
       "1     1967  0.000014  0.000027  0.000006  0.124715  0.014917  0.015838   \n",
       "2   Part_3  0.356265  0.000021  0.001945  0.002697  0.000013  0.010933   \n",
       "3   Part_1  0.000011  0.000020  0.000004  0.000027  0.009244  0.000018   \n",
       "4   Part_4  0.000887  0.000026  0.000005  0.268782  0.000016  0.000024   \n",
       "5   Part_5  0.000015  0.008205  0.000006  0.000038  0.000017  0.320206   \n",
       "6   Part_7  0.000253  0.009677  0.000005  0.007513  0.000013  0.000020   \n",
       "7   Part_6  0.000414  0.000220  0.306626  0.010535  0.013958  0.026293   \n",
       "8     2012  0.000018  0.000033  0.000007  0.000046  0.000021  0.000031   \n",
       "9   Part_8  0.000020  0.493120  0.000008  0.002183  0.000023  0.000035   \n",
       "10    1997  0.000020  0.038642  0.000008  0.000053  0.000024  0.000035   \n",
       "\n",
       "          8         9         10        11  \n",
       "0   0.000005  0.693961  0.010143  0.000022  \n",
       "1   0.000006  0.763231  0.076963  0.004283  \n",
       "2   0.000005  0.627108  0.000265  0.000748  \n",
       "3   0.000004  0.733510  0.000021  0.257142  \n",
       "4   0.000006  0.730203  0.000027  0.000025  \n",
       "5   0.000006  0.665790  0.005690  0.000027  \n",
       "6   0.265547  0.716930  0.000022  0.000021  \n",
       "7   0.011121  0.630799  0.000018  0.000017  \n",
       "8   0.000007  0.561172  0.436753  0.001913  \n",
       "9   0.000008  0.504528  0.000039  0.000036  \n",
       "10  0.000008  0.628445  0.288051  0.044713  "
      ]
     },
     "execution_count": 160,
     "metadata": {},
     "output_type": "execute_result"
    }
   ],
   "source": [
    "topics"
   ]
  },
  {
   "cell_type": "code",
   "execution_count": 161,
   "metadata": {},
   "outputs": [
    {
     "data": {
      "text/html": [
       "<div>\n",
       "<style scoped>\n",
       "    .dataframe tbody tr th:only-of-type {\n",
       "        vertical-align: middle;\n",
       "    }\n",
       "\n",
       "    .dataframe tbody tr th {\n",
       "        vertical-align: top;\n",
       "    }\n",
       "\n",
       "    .dataframe thead th {\n",
       "        text-align: right;\n",
       "    }\n",
       "</style>\n",
       "<table border=\"1\" class=\"dataframe\">\n",
       "  <thead>\n",
       "    <tr style=\"text-align: right;\">\n",
       "      <th></th>\n",
       "      <th>Text</th>\n",
       "      <th>1</th>\n",
       "      <th>2</th>\n",
       "      <th>3</th>\n",
       "      <th>4</th>\n",
       "      <th>5</th>\n",
       "      <th>6</th>\n",
       "      <th>7</th>\n",
       "      <th>8</th>\n",
       "      <th>9</th>\n",
       "      <th>10</th>\n",
       "    </tr>\n",
       "  </thead>\n",
       "  <tbody>\n",
       "    <tr>\n",
       "      <th>1</th>\n",
       "      <td>1967</td>\n",
       "      <td>0.000014</td>\n",
       "      <td>0.000027</td>\n",
       "      <td>0.000006</td>\n",
       "      <td>0.124715</td>\n",
       "      <td>0.014917</td>\n",
       "      <td>0.015838</td>\n",
       "      <td>0.000006</td>\n",
       "      <td>0.763231</td>\n",
       "      <td>0.076963</td>\n",
       "      <td>0.004283</td>\n",
       "    </tr>\n",
       "    <tr>\n",
       "      <th>10</th>\n",
       "      <td>1997</td>\n",
       "      <td>0.000020</td>\n",
       "      <td>0.038642</td>\n",
       "      <td>0.000008</td>\n",
       "      <td>0.000053</td>\n",
       "      <td>0.000024</td>\n",
       "      <td>0.000035</td>\n",
       "      <td>0.000008</td>\n",
       "      <td>0.628445</td>\n",
       "      <td>0.288051</td>\n",
       "      <td>0.044713</td>\n",
       "    </tr>\n",
       "    <tr>\n",
       "      <th>8</th>\n",
       "      <td>2012</td>\n",
       "      <td>0.000018</td>\n",
       "      <td>0.000033</td>\n",
       "      <td>0.000007</td>\n",
       "      <td>0.000046</td>\n",
       "      <td>0.000021</td>\n",
       "      <td>0.000031</td>\n",
       "      <td>0.000007</td>\n",
       "      <td>0.561172</td>\n",
       "      <td>0.436753</td>\n",
       "      <td>0.001913</td>\n",
       "    </tr>\n",
       "    <tr>\n",
       "      <th>3</th>\n",
       "      <td>Part_1</td>\n",
       "      <td>0.000011</td>\n",
       "      <td>0.000020</td>\n",
       "      <td>0.000004</td>\n",
       "      <td>0.000027</td>\n",
       "      <td>0.009244</td>\n",
       "      <td>0.000018</td>\n",
       "      <td>0.000004</td>\n",
       "      <td>0.733510</td>\n",
       "      <td>0.000021</td>\n",
       "      <td>0.257142</td>\n",
       "    </tr>\n",
       "    <tr>\n",
       "      <th>0</th>\n",
       "      <td>Part_2</td>\n",
       "      <td>0.000012</td>\n",
       "      <td>0.000275</td>\n",
       "      <td>0.000005</td>\n",
       "      <td>0.012934</td>\n",
       "      <td>0.282623</td>\n",
       "      <td>0.000021</td>\n",
       "      <td>0.000005</td>\n",
       "      <td>0.693961</td>\n",
       "      <td>0.010143</td>\n",
       "      <td>0.000022</td>\n",
       "    </tr>\n",
       "    <tr>\n",
       "      <th>2</th>\n",
       "      <td>Part_3</td>\n",
       "      <td>0.356265</td>\n",
       "      <td>0.000021</td>\n",
       "      <td>0.001945</td>\n",
       "      <td>0.002697</td>\n",
       "      <td>0.000013</td>\n",
       "      <td>0.010933</td>\n",
       "      <td>0.000005</td>\n",
       "      <td>0.627108</td>\n",
       "      <td>0.000265</td>\n",
       "      <td>0.000748</td>\n",
       "    </tr>\n",
       "    <tr>\n",
       "      <th>4</th>\n",
       "      <td>Part_4</td>\n",
       "      <td>0.000887</td>\n",
       "      <td>0.000026</td>\n",
       "      <td>0.000005</td>\n",
       "      <td>0.268782</td>\n",
       "      <td>0.000016</td>\n",
       "      <td>0.000024</td>\n",
       "      <td>0.000006</td>\n",
       "      <td>0.730203</td>\n",
       "      <td>0.000027</td>\n",
       "      <td>0.000025</td>\n",
       "    </tr>\n",
       "    <tr>\n",
       "      <th>5</th>\n",
       "      <td>Part_5</td>\n",
       "      <td>0.000015</td>\n",
       "      <td>0.008205</td>\n",
       "      <td>0.000006</td>\n",
       "      <td>0.000038</td>\n",
       "      <td>0.000017</td>\n",
       "      <td>0.320206</td>\n",
       "      <td>0.000006</td>\n",
       "      <td>0.665790</td>\n",
       "      <td>0.005690</td>\n",
       "      <td>0.000027</td>\n",
       "    </tr>\n",
       "    <tr>\n",
       "      <th>7</th>\n",
       "      <td>Part_6</td>\n",
       "      <td>0.000414</td>\n",
       "      <td>0.000220</td>\n",
       "      <td>0.306626</td>\n",
       "      <td>0.010535</td>\n",
       "      <td>0.013958</td>\n",
       "      <td>0.026293</td>\n",
       "      <td>0.011121</td>\n",
       "      <td>0.630799</td>\n",
       "      <td>0.000018</td>\n",
       "      <td>0.000017</td>\n",
       "    </tr>\n",
       "    <tr>\n",
       "      <th>6</th>\n",
       "      <td>Part_7</td>\n",
       "      <td>0.000253</td>\n",
       "      <td>0.009677</td>\n",
       "      <td>0.000005</td>\n",
       "      <td>0.007513</td>\n",
       "      <td>0.000013</td>\n",
       "      <td>0.000020</td>\n",
       "      <td>0.265547</td>\n",
       "      <td>0.716930</td>\n",
       "      <td>0.000022</td>\n",
       "      <td>0.000021</td>\n",
       "    </tr>\n",
       "    <tr>\n",
       "      <th>9</th>\n",
       "      <td>Part_8</td>\n",
       "      <td>0.000020</td>\n",
       "      <td>0.493120</td>\n",
       "      <td>0.000008</td>\n",
       "      <td>0.002183</td>\n",
       "      <td>0.000023</td>\n",
       "      <td>0.000035</td>\n",
       "      <td>0.000008</td>\n",
       "      <td>0.504528</td>\n",
       "      <td>0.000039</td>\n",
       "      <td>0.000036</td>\n",
       "    </tr>\n",
       "  </tbody>\n",
       "</table>\n",
       "</div>"
      ],
      "text/plain": [
       "      Text         1         2         3         4         5         6  \\\n",
       "1     1967  0.000014  0.000027  0.000006  0.124715  0.014917  0.015838   \n",
       "10    1997  0.000020  0.038642  0.000008  0.000053  0.000024  0.000035   \n",
       "8     2012  0.000018  0.000033  0.000007  0.000046  0.000021  0.000031   \n",
       "3   Part_1  0.000011  0.000020  0.000004  0.000027  0.009244  0.000018   \n",
       "0   Part_2  0.000012  0.000275  0.000005  0.012934  0.282623  0.000021   \n",
       "2   Part_3  0.356265  0.000021  0.001945  0.002697  0.000013  0.010933   \n",
       "4   Part_4  0.000887  0.000026  0.000005  0.268782  0.000016  0.000024   \n",
       "5   Part_5  0.000015  0.008205  0.000006  0.000038  0.000017  0.320206   \n",
       "7   Part_6  0.000414  0.000220  0.306626  0.010535  0.013958  0.026293   \n",
       "6   Part_7  0.000253  0.009677  0.000005  0.007513  0.000013  0.000020   \n",
       "9   Part_8  0.000020  0.493120  0.000008  0.002183  0.000023  0.000035   \n",
       "\n",
       "           7         8         9        10  \n",
       "1   0.000006  0.763231  0.076963  0.004283  \n",
       "10  0.000008  0.628445  0.288051  0.044713  \n",
       "8   0.000007  0.561172  0.436753  0.001913  \n",
       "3   0.000004  0.733510  0.000021  0.257142  \n",
       "0   0.000005  0.693961  0.010143  0.000022  \n",
       "2   0.000005  0.627108  0.000265  0.000748  \n",
       "4   0.000006  0.730203  0.000027  0.000025  \n",
       "5   0.000006  0.665790  0.005690  0.000027  \n",
       "7   0.011121  0.630799  0.000018  0.000017  \n",
       "6   0.265547  0.716930  0.000022  0.000021  \n",
       "9   0.000008  0.504528  0.000039  0.000036  "
      ]
     },
     "execution_count": 161,
     "metadata": {},
     "output_type": "execute_result"
    }
   ],
   "source": [
    "'''для удобства сортирую дф и переименовываю колонки - названия = номера топиков'''\n",
    "topics = topics.rename(columns = {1: 'Text'})\n",
    "topics = topics.rename(columns = {i + 1 : i for i in range(1, 11)})\n",
    "topics = topics.sort_values(by=['Text'])\n",
    "topics"
   ]
  },
  {
   "cell_type": "code",
   "execution_count": 162,
   "metadata": {},
   "outputs": [
    {
     "data": {
      "text/plain": [
       "1.0000000000000002"
      ]
     },
     "execution_count": 162,
     "metadata": {},
     "output_type": "execute_result"
    }
   ],
   "source": [
    "topics.iloc[0, 1:].sum()"
   ]
  },
  {
   "cell_type": "code",
   "execution_count": 209,
   "metadata": {},
   "outputs": [
    {
     "data": {
      "image/png": "[encoded data removed]",
      "text/plain": [
       "<Figure size 1080x720 with 2 Axes>"
      ]
     },
     "metadata": {},
     "output_type": "display_data"
    }
   ],
   "source": [
    "'''тепловая карта тем для каждого моего документа'''\n",
    "\n",
    "plt.figure(figsize = (15,10))  \n",
    "Index= [i for i in range(1, 11)]\n",
    "Cols = list(topics['Text'])\n",
    "\n",
    "sns.heatmap(topics.iloc[:, 1:], cmap='Spectral', xticklabels=Index, yticklabels=Cols)\n",
    "plt.yticks(rotation=0) \n",
    "plt.show()"
   ]
  },
  {
   "cell_type": "markdown",
   "metadata": {},
   "source": [
    "1) Можно посмотреть, какие топики появляются конкретно в какой части романа \\\n",
    "2) Важно обратить внимание на тот прямоугольник 3х2 справа сверху - на 9 тему, которая с большой вероятностью возникает во всех трех текстах субтитров"
   ]
  },
  {
   "cell_type": "markdown",
   "metadata": {},
   "source": [
    "Можно посмотреть, какие слова попали в какую тему"
   ]
  },
  {
   "cell_type": "code",
   "execution_count": 164,
   "metadata": {
    "scrolled": true
   },
   "outputs": [
    {
     "data": {
      "text/html": [
       "<div>\n",
       "<style scoped>\n",
       "    .dataframe tbody tr th:only-of-type {\n",
       "        vertical-align: middle;\n",
       "    }\n",
       "\n",
       "    .dataframe tbody tr th {\n",
       "        vertical-align: top;\n",
       "    }\n",
       "\n",
       "    .dataframe thead th {\n",
       "        text-align: right;\n",
       "    }\n",
       "</style>\n",
       "<table border=\"1\" class=\"dataframe\">\n",
       "  <thead>\n",
       "    <tr style=\"text-align: right;\">\n",
       "      <th></th>\n",
       "      <th>0</th>\n",
       "      <th>1</th>\n",
       "      <th>2</th>\n",
       "    </tr>\n",
       "  </thead>\n",
       "  <tbody>\n",
       "    <tr>\n",
       "      <th>0</th>\n",
       "      <td>0</td>\n",
       "      <td>0,04665</td>\n",
       "      <td>хозяйство рабочий народ школа власть сила коси...</td>\n",
       "    </tr>\n",
       "    <tr>\n",
       "      <th>1</th>\n",
       "      <td>1</td>\n",
       "      <td>0,08801</td>\n",
       "      <td>война жить разум церковь народ смысл сергей зн...</td>\n",
       "    </tr>\n",
       "    <tr>\n",
       "      <th>2</th>\n",
       "      <td>2</td>\n",
       "      <td>0,01873</td>\n",
       "      <td>пойти счастливый весловский варенька est устав...</td>\n",
       "    </tr>\n",
       "    <tr>\n",
       "      <th>3</th>\n",
       "      <td>3</td>\n",
       "      <td>0,12166</td>\n",
       "      <td>развод образование род желать умирать любовник...</td>\n",
       "    </tr>\n",
       "    <tr>\n",
       "      <th>4</th>\n",
       "      <td>4</td>\n",
       "      <td>0,05467</td>\n",
       "      <td>лес выпивать спокойный рябинин тень дерево око...</td>\n",
       "    </tr>\n",
       "    <tr>\n",
       "      <th>5</th>\n",
       "      <td>5</td>\n",
       "      <td>0,08166</td>\n",
       "      <td>христос надевать помощь раб сомнение жалко кар...</td>\n",
       "    </tr>\n",
       "    <tr>\n",
       "      <th>6</th>\n",
       "      <td>6</td>\n",
       "      <td>0,01906</td>\n",
       "      <td>landau заезжать петр ответ яшвин беззубов жало...</td>\n",
       "    </tr>\n",
       "    <tr>\n",
       "      <th>7</th>\n",
       "      <td>7</td>\n",
       "      <td>1,85471</td>\n",
       "      <td>знать говорить думать понимать видеть свой люб...</td>\n",
       "    </tr>\n",
       "    <tr>\n",
       "      <th>8</th>\n",
       "      <td>8</td>\n",
       "      <td>0,09124</td>\n",
       "      <td>любовь анна мама москва вронский оставаться пр...</td>\n",
       "    </tr>\n",
       "    <tr>\n",
       "      <th>9</th>\n",
       "      <td>9</td>\n",
       "      <td>0,08519</td>\n",
       "      <td>бал кататься танцевать устрица конек стол долл...</td>\n",
       "    </tr>\n",
       "  </tbody>\n",
       "</table>\n",
       "</div>"
      ],
      "text/plain": [
       "   0        1                                                  2\n",
       "0  0  0,04665  хозяйство рабочий народ школа власть сила коси...\n",
       "1  1  0,08801  война жить разум церковь народ смысл сергей зн...\n",
       "2  2  0,01873  пойти счастливый весловский варенька est устав...\n",
       "3  3  0,12166  развод образование род желать умирать любовник...\n",
       "4  4  0,05467  лес выпивать спокойный рябинин тень дерево око...\n",
       "5  5  0,08166  христос надевать помощь раб сомнение жалко кар...\n",
       "6  6  0,01906  landau заезжать петр ответ яшвин беззубов жало...\n",
       "7  7  1,85471  знать говорить думать понимать видеть свой люб...\n",
       "8  8  0,09124  любовь анна мама москва вронский оставаться пр...\n",
       "9  9  0,08519  бал кататься танцевать устрица конек стол долл..."
      ]
     },
     "execution_count": 164,
     "metadata": {},
     "output_type": "execute_result"
    }
   ],
   "source": [
    "words_of_topics = pd.read_csv('/Users/tonleon/Desktop/mallet-2.0.8/output_keys.csv', header=None, index_col=None, sep = '\\t' )\n",
    "words_of_topics"
   ]
  },
  {
   "cell_type": "markdown",
   "metadata": {},
   "source": [
    "Теперь выведем определенное количество слов для определенных топиков"
   ]
  },
  {
   "cell_type": "code",
   "execution_count": 167,
   "metadata": {},
   "outputs": [],
   "source": [
    "topic_weights = pd.read_csv('/Users/tonleon/Desktop/mallet-2.0.8/topic_weight.csv', header=None, index_col=None, sep = '\\t' )"
   ]
  },
  {
   "cell_type": "code",
   "execution_count": 197,
   "metadata": {},
   "outputs": [],
   "source": [
    "def get_the_most_freq_words_of_the_topic(topic_weights, n_of_words, n_of_topic):\n",
    "    highest_freq = topic_weights.groupby(0)[2].nlargest(n_of_words)\n",
    "    return topic_weights.iloc[highest_freq[n_of_topic].index][[2, 1]]"
   ]
  },
  {
   "cell_type": "code",
   "execution_count": 207,
   "metadata": {},
   "outputs": [
    {
     "data": {
      "text/html": [
       "<div>\n",
       "<style scoped>\n",
       "    .dataframe tbody tr th:only-of-type {\n",
       "        vertical-align: middle;\n",
       "    }\n",
       "\n",
       "    .dataframe tbody tr th {\n",
       "        vertical-align: top;\n",
       "    }\n",
       "\n",
       "    .dataframe thead th {\n",
       "        text-align: right;\n",
       "    }\n",
       "</style>\n",
       "<table border=\"1\" class=\"dataframe\">\n",
       "  <thead>\n",
       "    <tr style=\"text-align: right;\">\n",
       "      <th></th>\n",
       "      <th>2</th>\n",
       "      <th>1</th>\n",
       "    </tr>\n",
       "  </thead>\n",
       "  <tbody>\n",
       "    <tr>\n",
       "      <th>51327</th>\n",
       "      <td>31.144166</td>\n",
       "      <td>любовь</td>\n",
       "    </tr>\n",
       "    <tr>\n",
       "      <th>51638</th>\n",
       "      <td>27.144166</td>\n",
       "      <td>анна</td>\n",
       "    </tr>\n",
       "    <tr>\n",
       "      <th>51366</th>\n",
       "      <td>26.144166</td>\n",
       "      <td>мама</td>\n",
       "    </tr>\n",
       "    <tr>\n",
       "      <th>51646</th>\n",
       "      <td>24.144166</td>\n",
       "      <td>вронский</td>\n",
       "    </tr>\n",
       "    <tr>\n",
       "      <th>51727</th>\n",
       "      <td>24.144166</td>\n",
       "      <td>москва</td>\n",
       "    </tr>\n",
       "    <tr>\n",
       "      <th>51240</th>\n",
       "      <td>22.144166</td>\n",
       "      <td>оставаться</td>\n",
       "    </tr>\n",
       "    <tr>\n",
       "      <th>51531</th>\n",
       "      <td>19.144166</td>\n",
       "      <td>прощать</td>\n",
       "    </tr>\n",
       "    <tr>\n",
       "      <th>51832</th>\n",
       "      <td>18.144166</td>\n",
       "      <td>сын</td>\n",
       "    </tr>\n",
       "    <tr>\n",
       "      <th>52749</th>\n",
       "      <td>18.144166</td>\n",
       "      <td>дмитриевич</td>\n",
       "    </tr>\n",
       "    <tr>\n",
       "      <th>52381</th>\n",
       "      <td>16.144166</td>\n",
       "      <td>фру</td>\n",
       "    </tr>\n",
       "  </tbody>\n",
       "</table>\n",
       "</div>"
      ],
      "text/plain": [
       "               2           1\n",
       "51327  31.144166      любовь\n",
       "51638  27.144166        анна\n",
       "51366  26.144166        мама\n",
       "51646  24.144166    вронский\n",
       "51727  24.144166      москва\n",
       "51240  22.144166  оставаться\n",
       "51531  19.144166     прощать\n",
       "51832  18.144166         сын\n",
       "52749  18.144166  дмитриевич\n",
       "52381  16.144166         фру"
      ]
     },
     "execution_count": 207,
     "metadata": {},
     "output_type": "execute_result"
    }
   ],
   "source": [
    "get_the_most_freq_words_of_the_topic(topic_weights, 10, 8)"
   ]
  },
  {
   "cell_type": "markdown",
   "metadata": {},
   "source": [
    "## Text Similarity"
   ]
  },
  {
   "cell_type": "code",
   "execution_count": 277,
   "metadata": {},
   "outputs": [],
   "source": [
    "'''тут просто собираю информацию о том, какие документы у меня лежат в папке субтитров'''\n",
    "\n",
    "import os\n",
    "path = '/Users/tonleon/Documents/GitHub/Diploma/Films/Processed_texts/'\n",
    "os.chdir(path)\n",
    "\n",
    "text_files = []\n",
    "\n",
    "with os.scandir(path) as files:\n",
    "    for file in files:\n",
    "        if file.name.endswith('.txt'):\n",
    "            text_files.append(path + file.name)\n",
    "            \n",
    "text_files.sort()"
   ]
  },
  {
   "cell_type": "code",
   "execution_count": 280,
   "metadata": {},
   "outputs": [
    {
     "data": {
      "text/plain": [
       "['/Users/tonleon/Documents/GitHub/Diploma/Films/Processed_texts/Processed_Subtitles_1967.txt',\n",
       " '/Users/tonleon/Documents/GitHub/Diploma/Films/Processed_texts/Processed_Subtitles_1997.txt',\n",
       " '/Users/tonleon/Documents/GitHub/Diploma/Films/Processed_texts/Processed_Subtitles_2012.txt',\n",
       " '/Users/tonleon/Documents/GitHub/Diploma/Films/Processed_texts/Processed_Subtitles_Origianl_text_1877.txt',\n",
       " '/Users/tonleon/Documents/GitHub/Diploma/Films/Processed_texts/Processed_Subtitles_Part_1.txt',\n",
       " '/Users/tonleon/Documents/GitHub/Diploma/Films/Processed_texts/Processed_Subtitles_Part_2.txt',\n",
       " '/Users/tonleon/Documents/GitHub/Diploma/Films/Processed_texts/Processed_Subtitles_Part_3.txt',\n",
       " '/Users/tonleon/Documents/GitHub/Diploma/Films/Processed_texts/Processed_Subtitles_Part_4.txt',\n",
       " '/Users/tonleon/Documents/GitHub/Diploma/Films/Processed_texts/Processed_Subtitles_Part_5.txt',\n",
       " '/Users/tonleon/Documents/GitHub/Diploma/Films/Processed_texts/Processed_Subtitles_Part_6.txt',\n",
       " '/Users/tonleon/Documents/GitHub/Diploma/Films/Processed_texts/Processed_Subtitles_Part_7.txt',\n",
       " '/Users/tonleon/Documents/GitHub/Diploma/Films/Processed_texts/Processed_Subtitles_Part_8.txt']"
      ]
     },
     "execution_count": 280,
     "metadata": {},
     "output_type": "execute_result"
    }
   ],
   "source": [
    "text_files"
   ]
  },
  {
   "cell_type": "code",
   "execution_count": 278,
   "metadata": {},
   "outputs": [],
   "source": [
    "documents = []\n",
    "for file in text_files:\n",
    "    with open(file) as f:\n",
    "        text = f.read()\n",
    "        f.close()\n",
    "        documents.append(text)"
   ]
  },
  {
   "cell_type": "markdown",
   "metadata": {},
   "source": [
    "* TF-IDF Pairwise Similarity (based on cosine similarity of all pairs of items in a tidy table)"
   ]
  },
  {
   "cell_type": "code",
   "execution_count": 279,
   "metadata": {},
   "outputs": [],
   "source": [
    "'''считаю TF-IDF и PAIRWISE Similarity на основе косинусного расстояния'''\n",
    "tfidf = TfidfVectorizer().fit_transform(documents)\n",
    "# no need to normalize, since Vectorizer will return normalized tf-idf\n",
    "pairwise_similarity = tfidf * tfidf.T"
   ]
  },
  {
   "cell_type": "code",
   "execution_count": 283,
   "metadata": {},
   "outputs": [],
   "source": [
    "tfidf_ak = pd.DataFrame(data=pairwise_similarity.toarray() , index=[\"1967\", \"1997\",\"2012\",\"1877\",\"Part_1\",\"Part_2\",\n",
    "                                                              \"Part_3\",\"Part_4\",\"Part_5\",\"Part_6\",\"Part_7\",\n",
    "                                                              \"Part_8\"], \n",
    "                  columns=[\"1967\", \"1997\",\"2012\",\"1877\",\"Part_1\",\"Part_2\",\n",
    "                           \"Part_3\",\"Part_4\",\"Part_5\",\"Part_6\",\"Part_7\",\n",
    "                           \"Part_8\"])"
   ]
  },
  {
   "cell_type": "code",
   "execution_count": 294,
   "metadata": {},
   "outputs": [
    {
     "data": {
      "text/html": [
       "<div>\n",
       "<style scoped>\n",
       "    .dataframe tbody tr th:only-of-type {\n",
       "        vertical-align: middle;\n",
       "    }\n",
       "\n",
       "    .dataframe tbody tr th {\n",
       "        vertical-align: top;\n",
       "    }\n",
       "\n",
       "    .dataframe thead th {\n",
       "        text-align: right;\n",
       "    }\n",
       "</style>\n",
       "<table border=\"1\" class=\"dataframe\">\n",
       "  <thead>\n",
       "    <tr style=\"text-align: right;\">\n",
       "      <th></th>\n",
       "      <th>1967</th>\n",
       "      <th>1997</th>\n",
       "      <th>2012</th>\n",
       "      <th>1877</th>\n",
       "      <th>Part_1</th>\n",
       "      <th>Part_2</th>\n",
       "      <th>Part_3</th>\n",
       "      <th>Part_4</th>\n",
       "      <th>Part_5</th>\n",
       "      <th>Part_6</th>\n",
       "      <th>Part_7</th>\n",
       "      <th>Part_8</th>\n",
       "    </tr>\n",
       "  </thead>\n",
       "  <tbody>\n",
       "    <tr>\n",
       "      <th>1967</th>\n",
       "      <td>1.000000</td>\n",
       "      <td>0.602045</td>\n",
       "      <td>0.647210</td>\n",
       "      <td>0.794875</td>\n",
       "      <td>0.680084</td>\n",
       "      <td>0.675385</td>\n",
       "      <td>0.606875</td>\n",
       "      <td>0.752370</td>\n",
       "      <td>0.655399</td>\n",
       "      <td>0.621359</td>\n",
       "      <td>0.679574</td>\n",
       "      <td>0.477581</td>\n",
       "    </tr>\n",
       "    <tr>\n",
       "      <th>1997</th>\n",
       "      <td>0.602045</td>\n",
       "      <td>1.000000</td>\n",
       "      <td>0.557494</td>\n",
       "      <td>0.603225</td>\n",
       "      <td>0.549394</td>\n",
       "      <td>0.502041</td>\n",
       "      <td>0.466375</td>\n",
       "      <td>0.511754</td>\n",
       "      <td>0.504127</td>\n",
       "      <td>0.476802</td>\n",
       "      <td>0.517747</td>\n",
       "      <td>0.379161</td>\n",
       "    </tr>\n",
       "    <tr>\n",
       "      <th>2012</th>\n",
       "      <td>0.647210</td>\n",
       "      <td>0.557494</td>\n",
       "      <td>1.000000</td>\n",
       "      <td>0.643147</td>\n",
       "      <td>0.566049</td>\n",
       "      <td>0.547881</td>\n",
       "      <td>0.495496</td>\n",
       "      <td>0.556999</td>\n",
       "      <td>0.533166</td>\n",
       "      <td>0.527303</td>\n",
       "      <td>0.558534</td>\n",
       "      <td>0.372154</td>\n",
       "    </tr>\n",
       "    <tr>\n",
       "      <th>1877</th>\n",
       "      <td>0.794875</td>\n",
       "      <td>0.603225</td>\n",
       "      <td>0.643147</td>\n",
       "      <td>1.000000</td>\n",
       "      <td>0.872366</td>\n",
       "      <td>0.842489</td>\n",
       "      <td>0.800259</td>\n",
       "      <td>0.836499</td>\n",
       "      <td>0.806772</td>\n",
       "      <td>0.832016</td>\n",
       "      <td>0.831884</td>\n",
       "      <td>0.667192</td>\n",
       "    </tr>\n",
       "    <tr>\n",
       "      <th>Part_1</th>\n",
       "      <td>0.680084</td>\n",
       "      <td>0.549394</td>\n",
       "      <td>0.566049</td>\n",
       "      <td>0.872366</td>\n",
       "      <td>1.000000</td>\n",
       "      <td>0.715453</td>\n",
       "      <td>0.647748</td>\n",
       "      <td>0.682996</td>\n",
       "      <td>0.670368</td>\n",
       "      <td>0.664492</td>\n",
       "      <td>0.684622</td>\n",
       "      <td>0.535926</td>\n",
       "    </tr>\n",
       "    <tr>\n",
       "      <th>Part_2</th>\n",
       "      <td>0.675385</td>\n",
       "      <td>0.502041</td>\n",
       "      <td>0.547881</td>\n",
       "      <td>0.842489</td>\n",
       "      <td>0.715453</td>\n",
       "      <td>1.000000</td>\n",
       "      <td>0.630580</td>\n",
       "      <td>0.667307</td>\n",
       "      <td>0.622918</td>\n",
       "      <td>0.649571</td>\n",
       "      <td>0.656470</td>\n",
       "      <td>0.501440</td>\n",
       "    </tr>\n",
       "    <tr>\n",
       "      <th>Part_3</th>\n",
       "      <td>0.606875</td>\n",
       "      <td>0.466375</td>\n",
       "      <td>0.495496</td>\n",
       "      <td>0.800259</td>\n",
       "      <td>0.647748</td>\n",
       "      <td>0.630580</td>\n",
       "      <td>1.000000</td>\n",
       "      <td>0.657678</td>\n",
       "      <td>0.612791</td>\n",
       "      <td>0.628918</td>\n",
       "      <td>0.607486</td>\n",
       "      <td>0.514781</td>\n",
       "    </tr>\n",
       "    <tr>\n",
       "      <th>Part_4</th>\n",
       "      <td>0.752370</td>\n",
       "      <td>0.511754</td>\n",
       "      <td>0.556999</td>\n",
       "      <td>0.836499</td>\n",
       "      <td>0.682996</td>\n",
       "      <td>0.667307</td>\n",
       "      <td>0.657678</td>\n",
       "      <td>1.000000</td>\n",
       "      <td>0.647761</td>\n",
       "      <td>0.627338</td>\n",
       "      <td>0.658456</td>\n",
       "      <td>0.514639</td>\n",
       "    </tr>\n",
       "    <tr>\n",
       "      <th>Part_5</th>\n",
       "      <td>0.655399</td>\n",
       "      <td>0.504127</td>\n",
       "      <td>0.533166</td>\n",
       "      <td>0.806772</td>\n",
       "      <td>0.670368</td>\n",
       "      <td>0.622918</td>\n",
       "      <td>0.612791</td>\n",
       "      <td>0.647761</td>\n",
       "      <td>1.000000</td>\n",
       "      <td>0.625038</td>\n",
       "      <td>0.635279</td>\n",
       "      <td>0.496170</td>\n",
       "    </tr>\n",
       "    <tr>\n",
       "      <th>Part_6</th>\n",
       "      <td>0.621359</td>\n",
       "      <td>0.476802</td>\n",
       "      <td>0.527303</td>\n",
       "      <td>0.832016</td>\n",
       "      <td>0.664492</td>\n",
       "      <td>0.649571</td>\n",
       "      <td>0.628918</td>\n",
       "      <td>0.627338</td>\n",
       "      <td>0.625038</td>\n",
       "      <td>1.000000</td>\n",
       "      <td>0.642322</td>\n",
       "      <td>0.477728</td>\n",
       "    </tr>\n",
       "    <tr>\n",
       "      <th>Part_7</th>\n",
       "      <td>0.679574</td>\n",
       "      <td>0.517747</td>\n",
       "      <td>0.558534</td>\n",
       "      <td>0.831884</td>\n",
       "      <td>0.684622</td>\n",
       "      <td>0.656470</td>\n",
       "      <td>0.607486</td>\n",
       "      <td>0.658456</td>\n",
       "      <td>0.635279</td>\n",
       "      <td>0.642322</td>\n",
       "      <td>1.000000</td>\n",
       "      <td>0.486179</td>\n",
       "    </tr>\n",
       "    <tr>\n",
       "      <th>Part_8</th>\n",
       "      <td>0.477581</td>\n",
       "      <td>0.379161</td>\n",
       "      <td>0.372154</td>\n",
       "      <td>0.667192</td>\n",
       "      <td>0.535926</td>\n",
       "      <td>0.501440</td>\n",
       "      <td>0.514781</td>\n",
       "      <td>0.514639</td>\n",
       "      <td>0.496170</td>\n",
       "      <td>0.477728</td>\n",
       "      <td>0.486179</td>\n",
       "      <td>1.000000</td>\n",
       "    </tr>\n",
       "  </tbody>\n",
       "</table>\n",
       "</div>"
      ],
      "text/plain": [
       "            1967      1997      2012      1877    Part_1    Part_2    Part_3  \\\n",
       "1967    1.000000  0.602045  0.647210  0.794875  0.680084  0.675385  0.606875   \n",
       "1997    0.602045  1.000000  0.557494  0.603225  0.549394  0.502041  0.466375   \n",
       "2012    0.647210  0.557494  1.000000  0.643147  0.566049  0.547881  0.495496   \n",
       "1877    0.794875  0.603225  0.643147  1.000000  0.872366  0.842489  0.800259   \n",
       "Part_1  0.680084  0.549394  0.566049  0.872366  1.000000  0.715453  0.647748   \n",
       "Part_2  0.675385  0.502041  0.547881  0.842489  0.715453  1.000000  0.630580   \n",
       "Part_3  0.606875  0.466375  0.495496  0.800259  0.647748  0.630580  1.000000   \n",
       "Part_4  0.752370  0.511754  0.556999  0.836499  0.682996  0.667307  0.657678   \n",
       "Part_5  0.655399  0.504127  0.533166  0.806772  0.670368  0.622918  0.612791   \n",
       "Part_6  0.621359  0.476802  0.527303  0.832016  0.664492  0.649571  0.628918   \n",
       "Part_7  0.679574  0.517747  0.558534  0.831884  0.684622  0.656470  0.607486   \n",
       "Part_8  0.477581  0.379161  0.372154  0.667192  0.535926  0.501440  0.514781   \n",
       "\n",
       "          Part_4    Part_5    Part_6    Part_7    Part_8  \n",
       "1967    0.752370  0.655399  0.621359  0.679574  0.477581  \n",
       "1997    0.511754  0.504127  0.476802  0.517747  0.379161  \n",
       "2012    0.556999  0.533166  0.527303  0.558534  0.372154  \n",
       "1877    0.836499  0.806772  0.832016  0.831884  0.667192  \n",
       "Part_1  0.682996  0.670368  0.664492  0.684622  0.535926  \n",
       "Part_2  0.667307  0.622918  0.649571  0.656470  0.501440  \n",
       "Part_3  0.657678  0.612791  0.628918  0.607486  0.514781  \n",
       "Part_4  1.000000  0.647761  0.627338  0.658456  0.514639  \n",
       "Part_5  0.647761  1.000000  0.625038  0.635279  0.496170  \n",
       "Part_6  0.627338  0.625038  1.000000  0.642322  0.477728  \n",
       "Part_7  0.658456  0.635279  0.642322  1.000000  0.486179  \n",
       "Part_8  0.514639  0.496170  0.477728  0.486179  1.000000  "
      ]
     },
     "execution_count": 294,
     "metadata": {},
     "output_type": "execute_result"
    }
   ],
   "source": [
    "tfidf_ak"
   ]
  },
  {
   "cell_type": "code",
   "execution_count": 293,
   "metadata": {},
   "outputs": [
    {
     "data": {
      "image/png": "[encoded data removed]",
      "text/plain": [
       "<Figure size 1080x720 with 2 Axes>"
      ]
     },
     "metadata": {},
     "output_type": "display_data"
    }
   ],
   "source": [
    "'''тепловая карта близости документов на основе косинусного расстояния между векторами'''\n",
    "\n",
    "plt.figure(figsize = (15,10))  \n",
    "Index= list(tfidf_ak.columns)\n",
    "Cols = list(tfidf_ak.columns)\n",
    "\n",
    "sns.heatmap(tfidf_ak.iloc[:, :], cmap='Spectral', xticklabels=Index, yticklabels=Cols)\n",
    "plt.yticks(rotation=0) \n",
    "plt.show()"
   ]
  },
  {
   "cell_type": "markdown",
   "metadata": {},
   "source": [
    "Здесь стоит обратить внимание на пересечение 1877 года и субтитров 1967 - в целом, не удивительно, что отечественный фильм на фоне переводных субтитров зарубежных фильмов ближе по тексту к оригиналу роману. Однако было бы здорово как-нибудь сопоставить семантически реплики из субтитров с оригинальным текстом, но пока неясно6 как это сделать."
   ]
  },
  {
   "cell_type": "markdown",
   "metadata": {},
   "source": [
    "* PCA & T-SNE\\\n",
    "    КАК ВИДНО, ЭТО ВООБЩЕ НИЧЕГО НЕ ДАЕТ, ПОТОМУ ЧТО ДОКУМЕНТОВ НУ ОЧЕНЬ МАЛО, МОЖЕТ БЫТЬ СТОИТ ЧТО-ТО ТАКОЕ ДЕЛАТЬ ДЛЯ ПРЕДЛОЖЕНИЙ ИЛИ ЦЕЛИКОВЫХ РЕПЛИК, НО В ТАКОМ СЛУЧАЕ НА ГРАФИКЕ БУДЕТ НЕСКОЛЬКО ТЫСЯЧ РЕПЛИК, И КАЖЕТСЯ ВСЕ БУДЕТ ХАОТИЧНО"
   ]
  },
  {
   "cell_type": "code",
   "execution_count": 299,
   "metadata": {},
   "outputs": [
    {
     "data": {
      "text/plain": [
       "(12, 6464)"
      ]
     },
     "execution_count": 299,
     "metadata": {},
     "output_type": "execute_result"
    }
   ],
   "source": [
    "tfidf.toarray().shape"
   ]
  },
  {
   "cell_type": "code",
   "execution_count": 304,
   "metadata": {},
   "outputs": [],
   "source": [
    "pca = PCA(n_components=12, random_state=22)\n",
    "pca_tfidf_ak = pca.fit_transform(tfidf.toarray())"
   ]
  },
  {
   "cell_type": "code",
   "execution_count": 310,
   "metadata": {
    "scrolled": true
   },
   "outputs": [
    {
     "data": {
      "image/png": "[encoded data removed]",
      "text/plain": [
       "<Figure size 432x288 with 1 Axes>"
      ]
     },
     "metadata": {},
     "output_type": "display_data"
    },
    {
     "data": {
      "image/png": "[encoded data removed]",
      "text/plain": [
       "<Figure size 432x288 with 1 Axes>"
      ]
     },
     "metadata": {},
     "output_type": "display_data"
    },
    {
     "data": {
      "image/png": "[encoded data removed]",
      "text/plain": [
       "<Figure size 432x288 with 1 Axes>"
      ]
     },
     "metadata": {},
     "output_type": "display_data"
    },
    {
     "data": {
      "image/png": "[encoded data removed]",
      "text/plain": [
       "<Figure size 432x288 with 1 Axes>"
      ]
     },
     "metadata": {},
     "output_type": "display_data"
    },
    {
     "data": {
      "image/png": "[encoded data removed]",
      "text/plain": [
       "<Figure size 432x288 with 1 Axes>"
      ]
     },
     "metadata": {},
     "output_type": "display_data"
    },
    {
     "data": {
      "image/png": "[encoded data removed]",
      "text/plain": [
       "<Figure size 432x288 with 1 Axes>"
      ]
     },
     "metadata": {},
     "output_type": "display_data"
    },
    {
     "data": {
      "image/png": "[encoded data removed]",
      "text/plain": [
       "<Figure size 432x288 with 1 Axes>"
      ]
     },
     "metadata": {},
     "output_type": "display_data"
    },
    {
     "data": {
      "image/png": "[encoded data removed]",
      "text/plain": [
       "<Figure size 432x288 with 1 Axes>"
      ]
     },
     "metadata": {},
     "output_type": "display_data"
    },
    {
     "data": {
      "image/png": "[encoded data removed]",
      "text/plain": [
       "<Figure size 432x288 with 1 Axes>"
      ]
     },
     "metadata": {},
     "output_type": "display_data"
    },
    {
     "data": {
      "image/png": "[encoded data removed]",
      "text/plain": [
       "<Figure size 432x288 with 1 Axes>"
      ]
     },
     "metadata": {},
     "output_type": "display_data"
    },
    {
     "data": {
      "image/png": "[encoded data removed]",
      "text/plain": [
       "<Figure size 432x288 with 1 Axes>"
      ]
     },
     "metadata": {},
     "output_type": "display_data"
    }
   ],
   "source": [
    "perplexity_r = range(0, 55, 5)\n",
    "for perplexity in perplexity_r:\n",
    "    tsne = TSNE(2, perplexity=perplexity)\n",
    "    tsne_data = tsne.fit_transform(tfidf)\n",
    "    \n",
    "    plt.scatter(tsne_data[:,0], tsne_data[:, 1])\n",
    "    plt.title(\"Perplexity is {}\".format(perplexity))\n",
    "    plt.show()"
   ]
  },
  {
   "cell_type": "markdown",
   "metadata": {},
   "source": [
    "* Word2Vec"
   ]
  },
  {
   "cell_type": "code",
   "execution_count": 311,
   "metadata": {},
   "outputs": [],
   "source": [
    "from gensim.models import word2vec"
   ]
  },
  {
   "cell_type": "code",
   "execution_count": 317,
   "metadata": {},
   "outputs": [],
   "source": [
    "corpus = [lst_of_processed_original_text, \n",
    "                    lst_of_processed_original_text_part_1, \n",
    "                    lst_of_processed_original_text_part_2, \n",
    "                    lst_of_processed_original_text_part_3,\n",
    "                   lst_of_processed_original_text_part_4,\n",
    "                   lst_of_processed_original_text_part_5,\n",
    "                    lst_of_processed_original_text_part_6,\n",
    "                    lst_of_processed_original_text_part_7,\n",
    "                    lst_of_processed_original_text_part_8,\n",
    "                   lst_of_processed_sub_1967,\n",
    "                   lst_of_processed_sub_1997,\n",
    "                   lst_of_processed_sub_2012]"
   ]
  },
  {
   "cell_type": "code",
   "execution_count": 318,
   "metadata": {},
   "outputs": [],
   "source": [
    "model_homemade_embedding = word2vec.Word2Vec(corpus, size=100, window=5, min_count=1000, workers=4)"
   ]
  },
  {
   "cell_type": "code",
   "execution_count": 319,
   "metadata": {},
   "outputs": [
    {
     "data": {
      "text/plain": [
       "<gensim.models.word2vec.Word2Vec at 0x1412bad00>"
      ]
     },
     "execution_count": 319,
     "metadata": {},
     "output_type": "execute_result"
    }
   ],
   "source": []
  },
  {
   "cell_type": "code",
   "execution_count": null,
   "metadata": {},
   "outputs": [],
   "source": []
  }
 ],
 "metadata": {
  "kernelspec": {
   "display_name": "Python 3",
   "language": "python",
   "name": "python3"
  },
  "language_info": {
   "codemirror_mode": {
    "name": "ipython",
    "version": 3
   },
   "file_extension": ".py",
   "mimetype": "text/x-python",
   "name": "python",
   "nbconvert_exporter": "python",
   "pygments_lexer": "ipython3",
   "version": "3.8.1"
  }
 },
 "nbformat": 4,
 "nbformat_minor": 4
}
